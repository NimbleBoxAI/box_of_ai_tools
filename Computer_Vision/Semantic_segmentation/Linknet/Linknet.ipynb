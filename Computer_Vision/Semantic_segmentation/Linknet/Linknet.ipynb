{
 "cells": [
  {
   "cell_type": "code",
   "execution_count": 2,
   "metadata": {},
   "outputs": [
    {
     "name": "stdout",
     "output_type": "stream",
     "text": [
      "Parameters: 21771937\n"
     ]
    }
   ],
   "source": [
    "import torch\n",
    "import segmentation_models_pytorch as smp\n",
    "\n",
    "# Returns a Linkenet model which is basically just torch.nn.Module\n",
    "Linknet = smp.Linknet(encoder_name=\"resnet34\",\n",
    "                       encoder_weights=\"imagenet\",\n",
    "                       activation=\"sigmoid\",\n",
    "                       in_channels=3)\n",
    "\n",
    "# preprocessing input\n",
    "preprocess = smp.encoders.get_preprocessing_fn('resnet34', pretrained='imagenet')\n",
    "params = sum(p.numel() for p in Linknet.parameters())\n",
    "print(\"Parameters:\", params)"
   ]
  },
  {
   "cell_type": "code",
   "execution_count": 10,
   "metadata": {},
   "outputs": [],
   "source": [
    "#Converting torch to onnx\n",
    "\n",
    "# Onnx input \n",
    "\n",
    "x = torch.randn(1,3, 320, 320)\n",
    "torch_out = Linknet(x)\n",
    "torch.onnx.export(Linknet,\n",
    "                 x,\n",
    "                 \"Linknet.onnx\",\n",
    "                 input_names=[\"input\"],\n",
    "                 output_names=[\"output\"])"
   ]
  },
  {
   "cell_type": "code",
   "execution_count": 11,
   "metadata": {},
   "outputs": [
    {
     "name": "stdout",
     "output_type": "stream",
     "text": [
      "Model Optimizer arguments:\n",
      "Common parameters:\n",
      "\t- Path to the Input Model: \t/home/aakash/box_of_ai_tools/Semantic_segmentation/Linknet/Linknet.onnx\n",
      "\t- Path for generated IR: \t/home/aakash/box_of_ai_tools/Semantic_segmentation/Linknet/.\n",
      "\t- IR output name: \tLinknet\n",
      "\t- Log level: \tERROR\n",
      "\t- Batch: \tNot specified, inherited from the model\n",
      "\t- Input layers: \tNot specified, inherited from the model\n",
      "\t- Output layers: \tNot specified, inherited from the model\n",
      "\t- Input shapes: \tNot specified, inherited from the model\n",
      "\t- Mean values: \tNot specified\n",
      "\t- Scale values: \tNot specified\n",
      "\t- Scale factor: \tNot specified\n",
      "\t- Precision of IR: \tFP32\n",
      "\t- Enable fusing: \tTrue\n",
      "\t- Enable grouped convolutions fusing: \tTrue\n",
      "\t- Move mean values to preprocess section: \tNone\n",
      "\t- Reverse input channels: \tFalse\n",
      "ONNX specific parameters:\n",
      "Model Optimizer version: \t2021.2.0-1877-176bdf51370-releases/2021/2\n",
      "\n",
      "[ SUCCESS ] Generated IR version 10 model.\n",
      "[ SUCCESS ] XML file: /home/aakash/box_of_ai_tools/Semantic_segmentation/Linknet/./Linknet.xml\n",
      "[ SUCCESS ] BIN file: /home/aakash/box_of_ai_tools/Semantic_segmentation/Linknet/./Linknet.bin\n",
      "[ SUCCESS ] Total execution time: 7.05 seconds. \n",
      "[ SUCCESS ] Memory consumed: 1168 MB. \n"
     ]
    }
   ],
   "source": [
    "#converting from onnx to openvino \n",
    "!python3 /opt/intel/openvino_2021.2.200/deployment_tools/model_optimizer/mo.py --input_model Linknet.onnx"
   ]
  },
  {
   "cell_type": "code",
   "execution_count": 15,
   "metadata": {},
   "outputs": [],
   "source": [
    "from openvino.inference_engine import IECore\n",
    "ie = IECore()\n",
    "\n",
    "# These files including Linknet.bin, Linknet.mapping, Linknet.xml are\n",
    "# create after converting the onnx model to openvino through the above step\n",
    "openvino_linknet = ie.read_network(model=\"Linknet.xml\", weights=\"Linknet.bin\")\n",
    "exec_linknet = ie.load_network(network=openvino_linknet, device_name=\"CPU\", num_requests=1)\n",
    "openvino_out = exec_linknet.infer(inputs={\"input\": x})"
   ]
  },
  {
   "cell_type": "code",
   "execution_count": 30,
   "metadata": {},
   "outputs": [
    {
     "name": "stdout",
     "output_type": "stream",
     "text": [
      "torch_output: [[[[0.45595703 0.49180502 0.44596174 ... 0.5503879  0.47190374\n",
      "    0.40828925]\n",
      "   [0.29769057 0.29933342 0.5670274  ... 0.5001958  0.4011927\n",
      "    0.30840465]\n",
      "   [0.34815598 0.2000385  0.22177713 ... 0.43217978 0.1232594\n",
      "    0.19711807]\n",
      "   ...\n",
      "   [0.5592885  0.25409186 0.31379828 ... 0.4630827  0.5127501\n",
      "    0.34556505]\n",
      "   [0.24723668 0.43517667 0.09445605 ... 0.6893436  0.148828\n",
      "    0.45809978]\n",
      "   [0.39588138 0.3833054  0.4019481  ... 0.19418454 0.37380263\n",
      "    0.5430046 ]]]]\n",
      "openvino_output: [[[[0.49653545 0.49060637 0.49634525 ... 0.47663793 0.4768426\n",
      "    0.4775843 ]\n",
      "   [0.48311645 0.42374438 0.46645597 ... 0.46849546 0.49018076\n",
      "    0.48510835]\n",
      "   [0.48626304 0.49414045 0.46335074 ... 0.48539555 0.49795604\n",
      "    0.48618877]\n",
      "   ...\n",
      "   [0.49445114 0.43643683 0.47895372 ... 0.43283692 0.4515373\n",
      "    0.47585467]\n",
      "   [0.47574365 0.49004942 0.4654309  ... 0.50837505 0.47382444\n",
      "    0.48991   ]\n",
      "   [0.4907947  0.47500303 0.4719079  ... 0.47865865 0.47249988\n",
      "    0.49195075]]]]\n",
      "[[[[ 0.04057842 -0.00119865  0.05038351 ... -0.07374999  0.00493887\n",
      "     0.06929505]\n",
      "   [ 0.18542588  0.12441096 -0.10057142 ... -0.03170034  0.08898807\n",
      "     0.17670369]\n",
      "   [ 0.13810706  0.29410195  0.24157362 ...  0.05321577  0.37469664\n",
      "     0.2890707 ]\n",
      "   ...\n",
      "   [-0.06483737  0.18234497  0.16515544 ... -0.03024578 -0.06121278\n",
      "     0.13028961]\n",
      "   [ 0.22850697  0.05487275  0.37097484 ... -0.18096852  0.32499644\n",
      "     0.03181022]\n",
      "   [ 0.0949133   0.09169763  0.06995982 ...  0.2844741   0.09869725\n",
      "    -0.05105382]]]]\n"
     ]
    }
   ],
   "source": [
    "print(\"torch_output:\", torch_out.detach().numpy())\n",
    "print(\"openvino_output:\", openvino_out[\"output\"])"
   ]
  },
  {
   "cell_type": "code",
   "execution_count": null,
   "metadata": {},
   "outputs": [],
   "source": []
  }
 ],
 "metadata": {
  "kernelspec": {
   "display_name": "Python 3",
   "language": "python",
   "name": "python3"
  },
  "language_info": {
   "codemirror_mode": {
    "name": "ipython",
    "version": 3
   },
   "file_extension": ".py",
   "mimetype": "text/x-python",
   "name": "python",
   "nbconvert_exporter": "python",
   "pygments_lexer": "ipython3",
   "version": "3.7.9"
  }
 },
 "nbformat": 4,
 "nbformat_minor": 4
}
