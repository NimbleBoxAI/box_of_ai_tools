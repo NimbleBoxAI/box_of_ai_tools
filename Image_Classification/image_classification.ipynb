{
  "nbformat": 4,
  "nbformat_minor": 0,
  "metadata": {
    "colab": {
      "name": "image_classification.ipynb",
      "provenance": [],
      "collapsed_sections": []
    },
    "kernelspec": {
      "name": "python3",
      "display_name": "Python 3"
    },
    "widgets": {
      "application/vnd.jupyter.widget-state+json": {
        "9ecd3973335b41baae006d071352cafa": {
          "model_module": "@jupyter-widgets/controls",
          "model_name": "HBoxModel",
          "state": {
            "_view_name": "HBoxView",
            "_dom_classes": [],
            "_model_name": "HBoxModel",
            "_view_module": "@jupyter-widgets/controls",
            "_model_module_version": "1.5.0",
            "_view_count": null,
            "_view_module_version": "1.5.0",
            "box_style": "",
            "layout": "IPY_MODEL_fa936ad15e664c2986d40c572d8dc8db",
            "_model_module": "@jupyter-widgets/controls",
            "children": [
              "IPY_MODEL_7ecf00a09c674abdaa12c3e5c77a504a",
              "IPY_MODEL_9539a020bebb44bba2477441f6de7180"
            ]
          }
        },
        "fa936ad15e664c2986d40c572d8dc8db": {
          "model_module": "@jupyter-widgets/base",
          "model_name": "LayoutModel",
          "state": {
            "_view_name": "LayoutView",
            "grid_template_rows": null,
            "right": null,
            "justify_content": null,
            "_view_module": "@jupyter-widgets/base",
            "overflow": null,
            "_model_module_version": "1.2.0",
            "_view_count": null,
            "flex_flow": null,
            "width": null,
            "min_width": null,
            "border": null,
            "align_items": null,
            "bottom": null,
            "_model_module": "@jupyter-widgets/base",
            "top": null,
            "grid_column": null,
            "overflow_y": null,
            "overflow_x": null,
            "grid_auto_flow": null,
            "grid_area": null,
            "grid_template_columns": null,
            "flex": null,
            "_model_name": "LayoutModel",
            "justify_items": null,
            "grid_row": null,
            "max_height": null,
            "align_content": null,
            "visibility": null,
            "align_self": null,
            "height": null,
            "min_height": null,
            "padding": null,
            "grid_auto_rows": null,
            "grid_gap": null,
            "max_width": null,
            "order": null,
            "_view_module_version": "1.2.0",
            "grid_template_areas": null,
            "object_position": null,
            "object_fit": null,
            "grid_auto_columns": null,
            "margin": null,
            "display": null,
            "left": null
          }
        },
        "7ecf00a09c674abdaa12c3e5c77a504a": {
          "model_module": "@jupyter-widgets/controls",
          "model_name": "FloatProgressModel",
          "state": {
            "_view_name": "ProgressView",
            "style": "IPY_MODEL_b9af8aad6bb64c8fbc4d4347b7385a48",
            "_dom_classes": [],
            "description": "100%",
            "_model_name": "FloatProgressModel",
            "bar_style": "success",
            "max": 46827520,
            "_view_module": "@jupyter-widgets/controls",
            "_model_module_version": "1.5.0",
            "value": 46827520,
            "_view_count": null,
            "_view_module_version": "1.5.0",
            "orientation": "horizontal",
            "min": 0,
            "description_tooltip": null,
            "_model_module": "@jupyter-widgets/controls",
            "layout": "IPY_MODEL_0e67df7a70134ea79ec684ee600a9434"
          }
        },
        "9539a020bebb44bba2477441f6de7180": {
          "model_module": "@jupyter-widgets/controls",
          "model_name": "HTMLModel",
          "state": {
            "_view_name": "HTMLView",
            "style": "IPY_MODEL_0a920b777b674a5ebc202c7808d4fcbe",
            "_dom_classes": [],
            "description": "",
            "_model_name": "HTMLModel",
            "placeholder": "​",
            "_view_module": "@jupyter-widgets/controls",
            "_model_module_version": "1.5.0",
            "value": " 44.7M/44.7M [04:11&lt;00:00, 186kB/s]",
            "_view_count": null,
            "_view_module_version": "1.5.0",
            "description_tooltip": null,
            "_model_module": "@jupyter-widgets/controls",
            "layout": "IPY_MODEL_4858445d130048479d44eb75af01ad8e"
          }
        },
        "b9af8aad6bb64c8fbc4d4347b7385a48": {
          "model_module": "@jupyter-widgets/controls",
          "model_name": "ProgressStyleModel",
          "state": {
            "_view_name": "StyleView",
            "_model_name": "ProgressStyleModel",
            "description_width": "initial",
            "_view_module": "@jupyter-widgets/base",
            "_model_module_version": "1.5.0",
            "_view_count": null,
            "_view_module_version": "1.2.0",
            "bar_color": null,
            "_model_module": "@jupyter-widgets/controls"
          }
        },
        "0e67df7a70134ea79ec684ee600a9434": {
          "model_module": "@jupyter-widgets/base",
          "model_name": "LayoutModel",
          "state": {
            "_view_name": "LayoutView",
            "grid_template_rows": null,
            "right": null,
            "justify_content": null,
            "_view_module": "@jupyter-widgets/base",
            "overflow": null,
            "_model_module_version": "1.2.0",
            "_view_count": null,
            "flex_flow": null,
            "width": null,
            "min_width": null,
            "border": null,
            "align_items": null,
            "bottom": null,
            "_model_module": "@jupyter-widgets/base",
            "top": null,
            "grid_column": null,
            "overflow_y": null,
            "overflow_x": null,
            "grid_auto_flow": null,
            "grid_area": null,
            "grid_template_columns": null,
            "flex": null,
            "_model_name": "LayoutModel",
            "justify_items": null,
            "grid_row": null,
            "max_height": null,
            "align_content": null,
            "visibility": null,
            "align_self": null,
            "height": null,
            "min_height": null,
            "padding": null,
            "grid_auto_rows": null,
            "grid_gap": null,
            "max_width": null,
            "order": null,
            "_view_module_version": "1.2.0",
            "grid_template_areas": null,
            "object_position": null,
            "object_fit": null,
            "grid_auto_columns": null,
            "margin": null,
            "display": null,
            "left": null
          }
        },
        "0a920b777b674a5ebc202c7808d4fcbe": {
          "model_module": "@jupyter-widgets/controls",
          "model_name": "DescriptionStyleModel",
          "state": {
            "_view_name": "StyleView",
            "_model_name": "DescriptionStyleModel",
            "description_width": "",
            "_view_module": "@jupyter-widgets/base",
            "_model_module_version": "1.5.0",
            "_view_count": null,
            "_view_module_version": "1.2.0",
            "_model_module": "@jupyter-widgets/controls"
          }
        },
        "4858445d130048479d44eb75af01ad8e": {
          "model_module": "@jupyter-widgets/base",
          "model_name": "LayoutModel",
          "state": {
            "_view_name": "LayoutView",
            "grid_template_rows": null,
            "right": null,
            "justify_content": null,
            "_view_module": "@jupyter-widgets/base",
            "overflow": null,
            "_model_module_version": "1.2.0",
            "_view_count": null,
            "flex_flow": null,
            "width": null,
            "min_width": null,
            "border": null,
            "align_items": null,
            "bottom": null,
            "_model_module": "@jupyter-widgets/base",
            "top": null,
            "grid_column": null,
            "overflow_y": null,
            "overflow_x": null,
            "grid_auto_flow": null,
            "grid_area": null,
            "grid_template_columns": null,
            "flex": null,
            "_model_name": "LayoutModel",
            "justify_items": null,
            "grid_row": null,
            "max_height": null,
            "align_content": null,
            "visibility": null,
            "align_self": null,
            "height": null,
            "min_height": null,
            "padding": null,
            "grid_auto_rows": null,
            "grid_gap": null,
            "max_width": null,
            "order": null,
            "_view_module_version": "1.2.0",
            "grid_template_areas": null,
            "object_position": null,
            "object_fit": null,
            "grid_auto_columns": null,
            "margin": null,
            "display": null,
            "left": null
          }
        }
      }
    }
  },
  "cells": [
    {
      "cell_type": "markdown",
      "metadata": {
        "id": "Fyd_4Z_Yvx3d"
      },
      "source": [
        "#Image classification models covered :\n",
        "\n",
        "resnet18 = models.resnet18(pretrained=True)\n",
        "\n",
        "resnet34 = models.resnet34(pretrained=True)\n",
        "\n",
        "resnet50 = models.resnet50(pretrained=True)\n",
        "\n",
        "resnet101 = models.resnet101(pretrained=True)\n",
        "\n",
        "resnet152 = models.resnet152(pretrained=True)\n",
        "\n",
        "vgg16 = models.vgg16(pretrained=True)\n",
        "\n",
        "vgg19 = models.vgg16(pretrained=True)\n",
        "\n",
        "squeezenet = models.squeezenet1_0(pretrained=True)\n",
        "\n",
        "mobilenet = models.mobilenet_v2(pretrained=True)\n",
        "\n",
        "inceptionv3 = models.inception_v3(pretrained=True)"
      ]
    },
    {
      "cell_type": "code",
      "metadata": {
        "id": "ewnAh25Z6e8z"
      },
      "source": [
        "import io\n",
        "import os\n",
        "import hashlib\n",
        "import tempfile\n",
        "import requests\n",
        "import numpy as np\n",
        "from PIL import Image\n",
        "from argparse import ArgumentParser\n",
        "\n",
        "import torch\n",
        "import torchvision.transforms as transforms\n",
        "\n",
        "IMAGENET_MEAN = (0.485, 0.456, 0.406)\n",
        "IMAGENET_STD = (0.229, 0.224, 0.225)\n",
        "\n",
        "# for example we are using the Resnet18\n",
        "from torchvision import models"
      ],
      "execution_count": 3,
      "outputs": []
    },
    {
      "cell_type": "code",
      "metadata": {
        "id": "OZYeESfG7EE9"
      },
      "source": [
        "# define helper functions\n",
        "def fetch(url):\n",
        "  # efficient loading of URLS\n",
        "  fp = os.path.join(tempfile.gettempdir(), hashlib.md5(url.encode('utf-8')).hexdigest())\n",
        "  if os.path.isfile(fp) and os.stat(fp).st_size > 0:\n",
        "    with open(fp, \"rb\") as f:\n",
        "      dat = f.read()\n",
        "  else:\n",
        "    print(\"fetching\", url)\n",
        "    dat = requests.get(url).content\n",
        "    with open(fp+\".tmp\", \"wb\") as f:\n",
        "      f.write(dat)\n",
        "    os.rename(fp+\".tmp\", fp)\n",
        "  return dat\n",
        "\n",
        "def get_image_net_labels():\n",
        "  with open(\"labels.txt\", 'r') as f:\n",
        "    labels_map = [x.split(sep=' ', maxsplit=1)[-1].strip()[10:] for x in f]\n",
        "  return labels_map"
      ],
      "execution_count": 4,
      "outputs": []
    },
    {
      "cell_type": "code",
      "metadata": {
        "id": "G6_q_dPS7ODK"
      },
      "source": [
        "labels = get_image_net_labels()"
      ],
      "execution_count": 5,
      "outputs": []
    },
    {
      "cell_type": "markdown",
      "metadata": {
        "id": "WXfon7vNt-_5"
      },
      "source": [
        "Uncomment required model for usage"
      ]
    },
    {
      "cell_type": "code",
      "metadata": {
        "colab": {
          "base_uri": "https://localhost:8080/",
          "height": 84,
          "referenced_widgets": [
            "9ecd3973335b41baae006d071352cafa",
            "fa936ad15e664c2986d40c572d8dc8db",
            "7ecf00a09c674abdaa12c3e5c77a504a",
            "9539a020bebb44bba2477441f6de7180",
            "b9af8aad6bb64c8fbc4d4347b7385a48",
            "0e67df7a70134ea79ec684ee600a9434",
            "0a920b777b674a5ebc202c7808d4fcbe",
            "4858445d130048479d44eb75af01ad8e"
          ]
        },
        "id": "O8XHwAqj-rZ9",
        "outputId": "da0de530-3fc0-4d5c-fbbe-87ea4d85b006"
      },
      "source": [
        "#resnet18 = models.resnet18(pretrained=True)\n",
        "#resnet34 = models.resnet34(pretrained=True)\n",
        "#resnet50 = models.resnet50(pretrained=True)\n",
        "#resnet101 = models.resnet101(pretrained=True)\n",
        "#resnet152 = models.resnet152(pretrained=True)\n",
        "#vgg16 = models.vgg16(pretrained=True)\n",
        "#vgg19 = models.vgg16(pretrained=True)\n",
        "#squeezenet = models.squeezenet1_0(pretrained=True)\n",
        "#mobilenet = models.mobilenet_v2(pretrained=True)\n",
        "#inceptionv3 = models.inception_v3(pretrained=True)"
      ],
      "execution_count": 6,
      "outputs": [
        {
          "output_type": "stream",
          "text": [
            "Downloading: \"https://download.pytorch.org/models/resnet18-5c106cde.pth\" to /root/.cache/torch/hub/checkpoints/resnet18-5c106cde.pth\n"
          ],
          "name": "stderr"
        },
        {
          "output_type": "display_data",
          "data": {
            "application/vnd.jupyter.widget-view+json": {
              "model_id": "9ecd3973335b41baae006d071352cafa",
              "version_minor": 0,
              "version_major": 2
            },
            "text/plain": [
              "HBox(children=(FloatProgress(value=0.0, max=46827520.0), HTML(value='')))"
            ]
          },
          "metadata": {
            "tags": []
          }
        },
        {
          "output_type": "stream",
          "text": [
            "\n"
          ],
          "name": "stdout"
        }
      ]
    },
    {
      "cell_type": "code",
      "metadata": {
        "id": "vOVU7AKr7Q_O"
      },
      "source": [
        "# load the model by downloading pretrained weights\n",
        "model = models.resnet18(pretrained=True)\n",
        "_ = model.eval()"
      ],
      "execution_count": 9,
      "outputs": []
    },
    {
      "cell_type": "code",
      "metadata": {
        "id": "HlY5zfg-7c1u"
      },
      "source": [
        "# define the image transformations to apply to each image\n",
        "image_transformations = transforms.Compose([\n",
        "    transforms.Resize(256),                               # resize to a (256,256) image\n",
        "    transforms.CenterCrop(224),                           # crop centre part of image to get (244, 244) grid\n",
        "    transforms.ToTensor(),                                # convert to tensor\n",
        "    transforms.Normalize(IMAGENET_MEAN, IMAGENET_STD),    # normalise image according to imagenet valuess\n",
        "])"
      ],
      "execution_count": 10,
      "outputs": []
    },
    {
      "cell_type": "code",
      "metadata": {
        "colab": {
          "base_uri": "https://localhost:8080/"
        },
        "id": "LDI9yPBx7hZd",
        "outputId": "23b26ace-3ecb-43fb-b8ad-84e3918f2703"
      },
      "source": [
        "url = \"https://upload.wikimedia.org/wikipedia/commons/thumb/4/43/07._Camel_Profile%2C_near_Silverton%2C_NSW%2C_07.07.2007.jpg/1200px-07._Camel_Profile%2C_near_Silverton%2C_NSW%2C_07.07.2007.jpg\"#\"some/url/to/some/image.jpg\"\n",
        "image = Image.open(io.BytesIO(fetch(url)))  # load any image\n",
        "x = image_transformations(image) # [3, H, W]\n",
        "x = x.view(1, *x.size())\n",
        "x.size()"
      ],
      "execution_count": 11,
      "outputs": [
        {
          "output_type": "stream",
          "text": [
            "fetching https://upload.wikimedia.org/wikipedia/commons/thumb/4/43/07._Camel_Profile%2C_near_Silverton%2C_NSW%2C_07.07.2007.jpg/1200px-07._Camel_Profile%2C_near_Silverton%2C_NSW%2C_07.07.2007.jpg\n"
          ],
          "name": "stdout"
        },
        {
          "output_type": "execute_result",
          "data": {
            "text/plain": [
              "torch.Size([1, 3, 224, 224])"
            ]
          },
          "metadata": {
            "tags": []
          },
          "execution_count": 11
        }
      ]
    },
    {
      "cell_type": "code",
      "metadata": {
        "id": "rhdtEx697jgR"
      },
      "source": [
        "with torch.no_grad():\n",
        "    out = model(x)"
      ],
      "execution_count": 12,
      "outputs": []
    },
    {
      "cell_type": "code",
      "metadata": {
        "colab": {
          "base_uri": "https://localhost:8080/"
        },
        "id": "cKjJalgC77_6",
        "outputId": "c1ae0c07-719c-40ca-ed87-e5e9b269c9dd"
      },
      "source": [
        "# keep the top 10 scores\n",
        "number_top = 10\n",
        "probs, indices = torch.topk(out, number_top)\n",
        "print(f\"Top {number_top} results:\")\n",
        "print(\"===============\")\n",
        "for p, i in zip(probs[0], indices[0]):\n",
        "    print(p, \"--\", labels[i])"
      ],
      "execution_count": 13,
      "outputs": [
        {
          "output_type": "stream",
          "text": [
            "Top 10 results:\n",
            "===============\n",
            "tensor(26.0555) -- Arabian_camel,_dromedary,_Camelus_dromedarius\n",
            "tensor(15.6038) -- bighorn,_bighorn_sheep,_cimarron,_Rocky_Mountain_bighorn,_Rocky_Mountain_sheep,_Ovis_canadensis\n",
            "tensor(14.9338) -- llama\n",
            "tensor(14.8808) -- hartebeest\n",
            "tensor(13.1889) -- impala,_Aepyceros_melampus\n",
            "tensor(13.1851) -- ram,_tup\n",
            "tensor(13.1318) -- gazelle\n",
            "tensor(12.6416) -- sorrel\n",
            "tensor(12.1684) -- ibex,_Capra_ibex\n",
            "tensor(11.0720) -- ostrich,_Struthio_camelus\n"
          ],
          "name": "stdout"
        }
      ]
    },
    {
      "cell_type": "code",
      "metadata": {
        "colab": {
          "base_uri": "https://localhost:8080/"
        },
        "id": "0__uYm5r7-UE",
        "outputId": "ae404701-cad0-48b7-b958-9be2f1dba043"
      },
      "source": [
        "# convert to ONNX\n",
        "print(\"-\"*70)\n",
        "print(\"Now we are converting this pytorch model to ONNX model\")\n",
        "torch.onnx._export(model, x, f'resnet18.onnx', export_params=True)\n",
        "print(f\"See in the folder we have a resnet18.onnx file\")\n",
        "print(\"-\"*70)\n"
      ],
      "execution_count": 14,
      "outputs": [
        {
          "output_type": "stream",
          "text": [
            "----------------------------------------------------------------------\n",
            "Now we are converting this pytorch model to ONNX model\n",
            "See in the folder we have a resnet18.onnx file\n",
            "----------------------------------------------------------------------\n"
          ],
          "name": "stdout"
        }
      ]
    },
    {
      "cell_type": "markdown",
      "metadata": {
        "id": "eKLoCQu8vS7n"
      },
      "source": [
        "ONNX to OpenVino¶"
      ]
    },
    {
      "cell_type": "code",
      "metadata": {
        "id": "Kt0sj1gX9UTq"
      },
      "source": [
        "from openvino.inference_engine import IECore"
      ],
      "execution_count": null,
      "outputs": []
    },
    {
      "cell_type": "code",
      "metadata": {
        "id": "mJGtlPjLvW2J"
      },
      "source": [
        "model_xml = \"fp32/resnet18.xml\"\n",
        "model_bin = os.path.splitext(model_xml)[0] + \".bin\"\n",
        "model_xml, model_bin"
      ],
      "execution_count": null,
      "outputs": []
    },
    {
      "cell_type": "code",
      "metadata": {
        "id": "AmUetNjMvby9"
      },
      "source": [
        "# Plugin initialization for specified device and load extensions library if specified.\n",
        "print(\"Creating Inference Engine...\")\n",
        "ie = IECore()\n",
        "\n",
        "# Read IR\n",
        "print(\"Loading network\")\n",
        "net = ie.read_network(args.model, os.path.splitext(args.model)[0] + \".bin\")\n",
        "\n",
        "print(\"Loading IR to the plugin...\")\n",
        "exec_net = ie.load_network(network=net, device_name=\"CPU\", num_requests=2)\n",
        "print(f\"exec_net: {exec_net}\")\n",
        "print(\"-\"*70)"
      ],
      "execution_count": null,
      "outputs": []
    },
    {
      "cell_type": "code",
      "metadata": {
        "id": "_f_yl204viYr"
      },
      "source": [
        "# convert to numpy to pass this to the IECore\n",
        "x = x.numpy()"
      ],
      "execution_count": null,
      "outputs": []
    },
    {
      "cell_type": "code",
      "metadata": {
        "id": "Q8EYJvVrvmKc"
      },
      "source": [
        "# this is a bit tricky. So the input to the model is the input from ONNX graph\n",
        "# IECore makes a networkX graph of the \"computation graph\" and when we run .infer\n",
        "# it passes it through. If you are unsure of what to pass you can always check the\n",
        "# <model>.xml file. In case of pytorch models the value \"input.1\" is the usual\n",
        "# suspect. Happy Hunting!\n",
        "out = exec_net.infer(inputs={\"input.1\": x})\n",
        "\n",
        "# the output looks like this {\"node_id\": array()} so we simply load the output\n",
        "out = list(out.values())[0]\n",
        "print(\"Output Shape:\", out.shape)\n",
        "print(\"-\"*70)"
      ],
      "execution_count": null,
      "outputs": []
    },
    {
      "cell_type": "code",
      "metadata": {
        "id": "eJKiLaAFvqjs"
      },
      "source": [
        "# keep the top 10 scores\n",
        "out = out[0]\n",
        "number_top = 10\n",
        "indices = np.argsort(out, -1)[::-1][:number_top]\n",
        "probs = out[indices]\n",
        "print(f\"Top {number_top} results:\")\n",
        "print(\"===============\")\n",
        "for p, i in zip(probs, indices):\n",
        "print(p, \"--\", labels[i])\n",
        "print(\"-\"*70)"
      ],
      "execution_count": null,
      "outputs": []
    }
  ]
}