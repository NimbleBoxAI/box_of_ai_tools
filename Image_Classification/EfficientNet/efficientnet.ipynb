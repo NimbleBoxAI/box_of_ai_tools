{
  "nbformat": 4,
  "nbformat_minor": 0,
  "metadata": {
    "colab": {
      "name": "efficientnet",
      "provenance": [],
      "collapsed_sections": [],
      "toc_visible": true
    },
    "kernelspec": {
      "name": "python3",
      "display_name": "Python 3"
    },
    "widgets": {
      "application/vnd.jupyter.widget-state+json": {
        "cdd6b7eccadf4eb8bca81f83432fdbf5": {
          "model_module": "@jupyter-widgets/controls",
          "model_name": "HBoxModel",
          "state": {
            "_view_name": "HBoxView",
            "_dom_classes": [],
            "_model_name": "HBoxModel",
            "_view_module": "@jupyter-widgets/controls",
            "_model_module_version": "1.5.0",
            "_view_count": null,
            "_view_module_version": "1.5.0",
            "box_style": "",
            "layout": "IPY_MODEL_dec99bb1cbee4090828eff4249a50b13",
            "_model_module": "@jupyter-widgets/controls",
            "children": [
              "IPY_MODEL_61d5b79b53bd44e5bcb8e44c6d5efb37",
              "IPY_MODEL_87a308c017c443049f49f72d100207e5"
            ]
          }
        },
        "dec99bb1cbee4090828eff4249a50b13": {
          "model_module": "@jupyter-widgets/base",
          "model_name": "LayoutModel",
          "state": {
            "_view_name": "LayoutView",
            "grid_template_rows": null,
            "right": null,
            "justify_content": null,
            "_view_module": "@jupyter-widgets/base",
            "overflow": null,
            "_model_module_version": "1.2.0",
            "_view_count": null,
            "flex_flow": null,
            "width": null,
            "min_width": null,
            "border": null,
            "align_items": null,
            "bottom": null,
            "_model_module": "@jupyter-widgets/base",
            "top": null,
            "grid_column": null,
            "overflow_y": null,
            "overflow_x": null,
            "grid_auto_flow": null,
            "grid_area": null,
            "grid_template_columns": null,
            "flex": null,
            "_model_name": "LayoutModel",
            "justify_items": null,
            "grid_row": null,
            "max_height": null,
            "align_content": null,
            "visibility": null,
            "align_self": null,
            "height": null,
            "min_height": null,
            "padding": null,
            "grid_auto_rows": null,
            "grid_gap": null,
            "max_width": null,
            "order": null,
            "_view_module_version": "1.2.0",
            "grid_template_areas": null,
            "object_position": null,
            "object_fit": null,
            "grid_auto_columns": null,
            "margin": null,
            "display": null,
            "left": null
          }
        },
        "61d5b79b53bd44e5bcb8e44c6d5efb37": {
          "model_module": "@jupyter-widgets/controls",
          "model_name": "FloatProgressModel",
          "state": {
            "_view_name": "ProgressView",
            "style": "IPY_MODEL_9528710698fa44c4b5d6cc6613ec9d9c",
            "_dom_classes": [],
            "description": "100%",
            "_model_name": "FloatProgressModel",
            "bar_style": "success",
            "max": 21388428,
            "_view_module": "@jupyter-widgets/controls",
            "_model_module_version": "1.5.0",
            "value": 21388428,
            "_view_count": null,
            "_view_module_version": "1.5.0",
            "orientation": "horizontal",
            "min": 0,
            "description_tooltip": null,
            "_model_module": "@jupyter-widgets/controls",
            "layout": "IPY_MODEL_70721a4b8b524e8781217a94ce607230"
          }
        },
        "87a308c017c443049f49f72d100207e5": {
          "model_module": "@jupyter-widgets/controls",
          "model_name": "HTMLModel",
          "state": {
            "_view_name": "HTMLView",
            "style": "IPY_MODEL_9c0707ac5ad444eebcff54ed703e758b",
            "_dom_classes": [],
            "description": "",
            "_model_name": "HTMLModel",
            "placeholder": "​",
            "_view_module": "@jupyter-widgets/controls",
            "_model_module_version": "1.5.0",
            "value": " 20.4M/20.4M [17:41&lt;00:00, 20.2kB/s]",
            "_view_count": null,
            "_view_module_version": "1.5.0",
            "description_tooltip": null,
            "_model_module": "@jupyter-widgets/controls",
            "layout": "IPY_MODEL_400673b6625542779f375755bc4d0a48"
          }
        },
        "9528710698fa44c4b5d6cc6613ec9d9c": {
          "model_module": "@jupyter-widgets/controls",
          "model_name": "ProgressStyleModel",
          "state": {
            "_view_name": "StyleView",
            "_model_name": "ProgressStyleModel",
            "description_width": "initial",
            "_view_module": "@jupyter-widgets/base",
            "_model_module_version": "1.5.0",
            "_view_count": null,
            "_view_module_version": "1.2.0",
            "bar_color": null,
            "_model_module": "@jupyter-widgets/controls"
          }
        },
        "70721a4b8b524e8781217a94ce607230": {
          "model_module": "@jupyter-widgets/base",
          "model_name": "LayoutModel",
          "state": {
            "_view_name": "LayoutView",
            "grid_template_rows": null,
            "right": null,
            "justify_content": null,
            "_view_module": "@jupyter-widgets/base",
            "overflow": null,
            "_model_module_version": "1.2.0",
            "_view_count": null,
            "flex_flow": null,
            "width": null,
            "min_width": null,
            "border": null,
            "align_items": null,
            "bottom": null,
            "_model_module": "@jupyter-widgets/base",
            "top": null,
            "grid_column": null,
            "overflow_y": null,
            "overflow_x": null,
            "grid_auto_flow": null,
            "grid_area": null,
            "grid_template_columns": null,
            "flex": null,
            "_model_name": "LayoutModel",
            "justify_items": null,
            "grid_row": null,
            "max_height": null,
            "align_content": null,
            "visibility": null,
            "align_self": null,
            "height": null,
            "min_height": null,
            "padding": null,
            "grid_auto_rows": null,
            "grid_gap": null,
            "max_width": null,
            "order": null,
            "_view_module_version": "1.2.0",
            "grid_template_areas": null,
            "object_position": null,
            "object_fit": null,
            "grid_auto_columns": null,
            "margin": null,
            "display": null,
            "left": null
          }
        },
        "9c0707ac5ad444eebcff54ed703e758b": {
          "model_module": "@jupyter-widgets/controls",
          "model_name": "DescriptionStyleModel",
          "state": {
            "_view_name": "StyleView",
            "_model_name": "DescriptionStyleModel",
            "description_width": "",
            "_view_module": "@jupyter-widgets/base",
            "_model_module_version": "1.5.0",
            "_view_count": null,
            "_view_module_version": "1.2.0",
            "_model_module": "@jupyter-widgets/controls"
          }
        },
        "400673b6625542779f375755bc4d0a48": {
          "model_module": "@jupyter-widgets/base",
          "model_name": "LayoutModel",
          "state": {
            "_view_name": "LayoutView",
            "grid_template_rows": null,
            "right": null,
            "justify_content": null,
            "_view_module": "@jupyter-widgets/base",
            "overflow": null,
            "_model_module_version": "1.2.0",
            "_view_count": null,
            "flex_flow": null,
            "width": null,
            "min_width": null,
            "border": null,
            "align_items": null,
            "bottom": null,
            "_model_module": "@jupyter-widgets/base",
            "top": null,
            "grid_column": null,
            "overflow_y": null,
            "overflow_x": null,
            "grid_auto_flow": null,
            "grid_area": null,
            "grid_template_columns": null,
            "flex": null,
            "_model_name": "LayoutModel",
            "justify_items": null,
            "grid_row": null,
            "max_height": null,
            "align_content": null,
            "visibility": null,
            "align_self": null,
            "height": null,
            "min_height": null,
            "padding": null,
            "grid_auto_rows": null,
            "grid_gap": null,
            "max_width": null,
            "order": null,
            "_view_module_version": "1.2.0",
            "grid_template_areas": null,
            "object_position": null,
            "object_fit": null,
            "grid_auto_columns": null,
            "margin": null,
            "display": null,
            "left": null
          }
        }
      }
    }
  },
  "cells": [
    {
      "cell_type": "markdown",
      "metadata": {
        "id": "Fyd_4Z_Yvx3d"
      },
      "source": [
        "#Image classification models covered :\n",
        "\n",
        "model = EfficientNet.from_pretrained('efficientnet-b0')\n",
        "\n",
        "model = EfficientNet.from_pretrained('efficientnet-b1')\n",
        "\n",
        "model = EfficientNet.from_pretrained('efficientnet-b2')\n",
        "\n",
        "model = EfficientNet.from_pretrained('efficientnet-b3')\n",
        "\n",
        "model = EfficientNet.from_pretrained('efficientnet-b4')\n",
        "\n",
        "model = EfficientNet.from_pretrained('efficientnet-b5')\n",
        "\n",
        "model = EfficientNet.from_pretrained('efficientnet-b6')\n",
        "\n",
        "model = EfficientNet.from_pretrained('efficientnet-b7')"
      ]
    },
    {
      "cell_type": "code",
      "metadata": {
        "id": "ewnAh25Z6e8z"
      },
      "source": [
        "import io\n",
        "import os\n",
        "import hashlib\n",
        "import tempfile\n",
        "import requests\n",
        "import numpy as np\n",
        "from PIL import Image\n",
        "from argparse import ArgumentParser\n",
        "\n",
        "import torch\n",
        "from efficientnet_pytorch import EfficientNet\n",
        "import torchvision.transforms as transforms\n",
        "\n",
        "IMAGENET_MEAN = (0.485, 0.456, 0.406)\n",
        "IMAGENET_STD = (0.229, 0.224, 0.225)\n",
        "\n",
        "# for example we are using the Resnet18\n",
        "from torchvision import models"
      ],
      "execution_count": 1,
      "outputs": []
    },
    {
      "cell_type": "code",
      "metadata": {
        "id": "OZYeESfG7EE9"
      },
      "source": [
        "# define helper functions\n",
        "def fetch(url):\n",
        "  # efficient loading of URLS\n",
        "  fp = os.path.join(tempfile.gettempdir(), hashlib.md5(url.encode('utf-8')).hexdigest())\n",
        "  if os.path.isfile(fp) and os.stat(fp).st_size > 0:\n",
        "    with open(fp, \"rb\") as f:\n",
        "      dat = f.read()\n",
        "  else:\n",
        "    print(\"fetching\", url)\n",
        "    dat = requests.get(url).content\n",
        "    with open(fp+\".tmp\", \"wb\") as f:\n",
        "      f.write(dat)\n",
        "    os.rename(fp+\".tmp\", fp)\n",
        "  return dat\n",
        "\n",
        "def get_image_net_labels():\n",
        "  with open(\"labels.txt\", 'r') as f:\n",
        "    labels_map = [x.split(sep=' ', maxsplit=1)[-1].strip()[10:] for x in f]\n",
        "  return labels_map"
      ],
      "execution_count": 2,
      "outputs": []
    },
    {
      "cell_type": "code",
      "metadata": {
        "id": "G6_q_dPS7ODK"
      },
      "source": [
        "labels = get_image_net_labels()"
      ],
      "execution_count": 3,
      "outputs": []
    },
    {
      "cell_type": "markdown",
      "metadata": {
        "id": "WXfon7vNt-_5"
      },
      "source": [
        "Uncomment required model for usage"
      ]
    },
    {
      "cell_type": "code",
      "metadata": {
        "id": "O8XHwAqj-rZ9"
      },
      "source": [
        "#model = EfficientNet.from_pretrained('efficientnet-b0')\n",
        "#model = EfficientNet.from_pretrained('efficientnet-b1')\n",
        "#model = EfficientNet.from_pretrained('efficientnet-b2')\n",
        "#model = EfficientNet.from_pretrained('efficientnet-b3')\n",
        "#model = EfficientNet.from_pretrained('efficientnet-b4')\n",
        "#model = EfficientNet.from_pretrained('efficientnet-b5')\n",
        "#model = EfficientNet.from_pretrained('efficientnet-b6')\n",
        "#model = EfficientNet.from_pretrained('efficientnet-b7')"
      ],
      "execution_count": 4,
      "outputs": []
    },
    {
      "cell_type": "code",
      "metadata": {
        "id": "vOVU7AKr7Q_O",
        "colab": {
          "base_uri": "https://localhost:8080/",
          "height": 122,
          "referenced_widgets": [
            "cdd6b7eccadf4eb8bca81f83432fdbf5",
            "dec99bb1cbee4090828eff4249a50b13",
            "61d5b79b53bd44e5bcb8e44c6d5efb37",
            "87a308c017c443049f49f72d100207e5",
            "9528710698fa44c4b5d6cc6613ec9d9c",
            "70721a4b8b524e8781217a94ce607230",
            "9c0707ac5ad444eebcff54ed703e758b",
            "400673b6625542779f375755bc4d0a48"
          ]
        },
        "outputId": "f90d22af-80ae-4930-965a-591cd98a6f68"
      },
      "source": [
        "# load the model by downloading pretrained weights\n",
        "model = EfficientNet.from_pretrained('efficientnet-b0')\n",
        "_ = model.eval()"
      ],
      "execution_count": 13,
      "outputs": [
        {
          "output_type": "stream",
          "text": [
            "Downloading: \"https://github.com/lukemelas/EfficientNet-PyTorch/releases/download/1.0/efficientnet-b0-355c32eb.pth\" to /root/.cache/torch/hub/checkpoints/efficientnet-b0-355c32eb.pth\n"
          ],
          "name": "stderr"
        },
        {
          "output_type": "display_data",
          "data": {
            "application/vnd.jupyter.widget-view+json": {
              "model_id": "cdd6b7eccadf4eb8bca81f83432fdbf5",
              "version_minor": 0,
              "version_major": 2
            },
            "text/plain": [
              "HBox(children=(FloatProgress(value=0.0, max=21388428.0), HTML(value='')))"
            ]
          },
          "metadata": {
            "tags": []
          }
        },
        {
          "output_type": "stream",
          "text": [
            "\n",
            "Loaded pretrained weights for efficientnet-b0\n"
          ],
          "name": "stdout"
        }
      ]
    },
    {
      "cell_type": "code",
      "metadata": {
        "id": "HlY5zfg-7c1u"
      },
      "source": [
        "# define the image transformations to apply to each image\n",
        "image_transformations = transforms.Compose([\n",
        "    transforms.Resize(256),                               # resize to a (256,256) image\n",
        "    transforms.CenterCrop(224),                           # crop centre part of image to get (244, 244) grid\n",
        "    transforms.ToTensor(),                                # convert to tensor\n",
        "    transforms.Normalize(IMAGENET_MEAN, IMAGENET_STD),    # normalise image according to imagenet valuess\n",
        "])"
      ],
      "execution_count": 14,
      "outputs": []
    },
    {
      "cell_type": "code",
      "metadata": {
        "colab": {
          "base_uri": "https://localhost:8080/"
        },
        "id": "LDI9yPBx7hZd",
        "outputId": "9582c154-2813-4fe1-c8bb-5fe7ad6fb7e2"
      },
      "source": [
        "url = \"https://upload.wikimedia.org/wikipedia/commons/thumb/4/43/07._Camel_Profile%2C_near_Silverton%2C_NSW%2C_07.07.2007.jpg/1200px-07._Camel_Profile%2C_near_Silverton%2C_NSW%2C_07.07.2007.jpg\"#\"some/url/to/some/image.jpg\"\n",
        "image = Image.open(io.BytesIO(fetch(url)))  # load any image\n",
        "x = image_transformations(image) # [3, H, W]\n",
        "x = x.view(1, *x.size())\n",
        "x.size()"
      ],
      "execution_count": 15,
      "outputs": [
        {
          "output_type": "execute_result",
          "data": {
            "text/plain": [
              "torch.Size([1, 3, 224, 224])"
            ]
          },
          "metadata": {
            "tags": []
          },
          "execution_count": 15
        }
      ]
    },
    {
      "cell_type": "code",
      "metadata": {
        "id": "rhdtEx697jgR"
      },
      "source": [
        "with torch.no_grad():\n",
        "    out = model(x)"
      ],
      "execution_count": 16,
      "outputs": []
    },
    {
      "cell_type": "code",
      "metadata": {
        "colab": {
          "base_uri": "https://localhost:8080/"
        },
        "id": "cKjJalgC77_6",
        "outputId": "4d8581ab-0372-4e41-f9d5-095dc9d7e726"
      },
      "source": [
        "# keep the top 10 scores\n",
        "number_top = 10\n",
        "probs, indices = torch.topk(out, number_top)\n",
        "print(f\"Top {number_top} results:\")\n",
        "print(\"===============\")\n",
        "for p, i in zip(probs[0], indices[0]):\n",
        "    print(p, \"--\", labels[i])"
      ],
      "execution_count": 17,
      "outputs": [
        {
          "output_type": "stream",
          "text": [
            "Top 10 results:\n",
            "===============\n",
            "tensor(10.6979) -- Arabian_camel,_dromedary,_Camelus_dromedarius\n",
            "tensor(5.5358) -- llama\n",
            "tensor(4.0592) -- gazelle\n",
            "tensor(3.9918) -- bighorn,_bighorn_sheep,_cimarron,_Rocky_Mountain_bighorn,_Rocky_Mountain_sheep,_Ovis_canadensis\n",
            "tensor(3.3354) -- sorrel\n",
            "tensor(3.2294) -- impala,_Aepyceros_melampus\n",
            "tensor(2.4651) -- ram,_tup\n",
            "tensor(2.3280) -- ostrich,_Struthio_camelus\n",
            "tensor(2.3230) -- ibex,_Capra_ibex\n",
            "tensor(2.2993) -- koala,_koala_bear,_kangaroo_bear,_native_bear,_Phascolarctos_cinereus\n"
          ],
          "name": "stdout"
        }
      ]
    },
    {
      "cell_type": "markdown",
      "metadata": {
        "id": "zlElhgvjxebF"
      },
      "source": [
        "Since EffcientNet uses Swish activation function, conversion to ONNX is not directly possible, hence we have to set memory efficient to False first"
      ]
    },
    {
      "cell_type": "code",
      "metadata": {
        "id": "Ezvxi5T-1cVq"
      },
      "source": [
        "model.set_swish(memory_efficient=False)"
      ],
      "execution_count": 19,
      "outputs": []
    },
    {
      "cell_type": "code",
      "metadata": {
        "colab": {
          "base_uri": "https://localhost:8080/"
        },
        "id": "0__uYm5r7-UE",
        "outputId": "599db129-ea31-4b2a-a2ea-d68240783867"
      },
      "source": [
        "# convert to ONNX\n",
        "print(\"-\"*70)\n",
        "print(\"Now we are converting this pytorch model to ONNX model\")\n",
        "torch.onnx._export(model, x, f'efficientnet-b3.onnx', export_params=True)\n",
        "print(f\"See in the folder we have a efficientnet-b3.onnx file\")\n",
        "print(\"-\"*70)\n"
      ],
      "execution_count": 21,
      "outputs": [
        {
          "output_type": "stream",
          "text": [
            "----------------------------------------------------------------------\n",
            "Now we are converting this pytorch model to ONNX model\n",
            "See in the folder we have a efficientnet-b3.onnx file\n",
            "----------------------------------------------------------------------\n"
          ],
          "name": "stdout"
        }
      ]
    },
    {
      "cell_type": "markdown",
      "metadata": {
        "id": "twTS5U1511ey"
      },
      "source": [
        "ONNX to OpenVino¶"
      ]
    },
    {
      "cell_type": "code",
      "metadata": {
        "id": "ooQ-qlv1xdbZ"
      },
      "source": [
        "from openvino.inference_engine import IECore"
      ],
      "execution_count": null,
      "outputs": []
    },
    {
      "cell_type": "code",
      "metadata": {
        "id": "_cVSu0Oe14Tw"
      },
      "source": [
        "model_xml = \"fp32/efficientnet-b3.xml\"\n",
        "model_bin = os.path.splitext(model_xml)[0] + \".bin\"\n",
        "model_xml, model_bin"
      ],
      "execution_count": null,
      "outputs": []
    },
    {
      "cell_type": "code",
      "metadata": {
        "id": "2mx7LRWu2BTA"
      },
      "source": [
        "# Plugin initialization for specified device and load extensions library if specified.\n",
        "print(\"Creating Inference Engine...\")\n",
        "ie = IECore()\n",
        "\n",
        "# Read IR\n",
        "print(\"Loading network\")\n",
        "net = ie.read_network(args.model, os.path.splitext(args.model)[0] + \".bin\")\n",
        "\n",
        "print(\"Loading IR to the plugin...\")\n",
        "exec_net = ie.load_network(network=net, device_name=\"CPU\", num_requests=2)\n",
        "print(f\"exec_net: {exec_net}\")\n",
        "print(\"-\"*70)"
      ],
      "execution_count": null,
      "outputs": []
    },
    {
      "cell_type": "code",
      "metadata": {
        "id": "RYoDolYA2B1k"
      },
      "source": [
        "# convert to numpy to pass this to the IECore\n",
        "x = x.numpy()"
      ],
      "execution_count": null,
      "outputs": []
    },
    {
      "cell_type": "code",
      "metadata": {
        "id": "PqD_tiqP2DgW"
      },
      "source": [
        "# this is a bit tricky. So the input to the model is the input from ONNX graph\n",
        "# IECore makes a networkX graph of the \"computation graph\" and when we run .infer\n",
        "# it passes it through. If you are unsure of what to pass you can always check the\n",
        "# <model>.xml file. In case of pytorch models the value \"input.1\" is the usual\n",
        "# suspect. Happy Hunting!\n",
        "out = exec_net.infer(inputs={\"input.1\": x})\n",
        "\n",
        "# the output looks like this {\"node_id\": array()} so we simply load the output\n",
        "out = list(out.values())[0]\n",
        "print(\"Output Shape:\", out.shape)\n",
        "print(\"-\"*70)"
      ],
      "execution_count": null,
      "outputs": []
    },
    {
      "cell_type": "code",
      "metadata": {
        "id": "SbBjkuTo2FJY"
      },
      "source": [
        "# keep the top 10 scores\n",
        "out = out[0]\n",
        "number_top = 10\n",
        "indices = np.argsort(out, -1)[::-1][:number_top]\n",
        "probs = out[indices]\n",
        "print(f\"Top {number_top} results:\")\n",
        "print(\"===============\")\n",
        "for p, i in zip(probs, indices):\n",
        "print(p, \"--\", labels[i])\n",
        "print(\"-\"*70)"
      ],
      "execution_count": null,
      "outputs": []
    }
  ]
}