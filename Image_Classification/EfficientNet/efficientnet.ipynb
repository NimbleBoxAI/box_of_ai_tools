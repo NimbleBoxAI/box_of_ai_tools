{
  "nbformat": 4,
  "nbformat_minor": 0,
  "metadata": {
    "colab": {
      "name": "efficientnet",
      "provenance": [],
      "collapsed_sections": [],
      "toc_visible": true
    },
    "kernelspec": {
      "name": "python3",
      "display_name": "Python 3"
    },
    "widgets": {
      "application/vnd.jupyter.widget-state+json": {
        "cdd6b7eccadf4eb8bca81f83432fdbf5": {
          "model_module": "@jupyter-widgets/controls",
          "model_name": "HBoxModel",
          "state": {
            "_view_name": "HBoxView",
            "_dom_classes": [],
            "_model_name": "HBoxModel",
            "_view_module": "@jupyter-widgets/controls",
            "_model_module_version": "1.5.0",
            "_view_count": null,
            "_view_module_version": "1.5.0",
            "box_style": "",
            "layout": "IPY_MODEL_dec99bb1cbee4090828eff4249a50b13",
            "_model_module": "@jupyter-widgets/controls",
            "children": [
              "IPY_MODEL_61d5b79b53bd44e5bcb8e44c6d5efb37",
              "IPY_MODEL_87a308c017c443049f49f72d100207e5"
            ]
          }
        },
        "dec99bb1cbee4090828eff4249a50b13": {
          "model_module": "@jupyter-widgets/base",
          "model_name": "LayoutModel",
          "state": {
            "_view_name": "LayoutView",
            "grid_template_rows": null,
            "right": null,
            "justify_content": null,
            "_view_module": "@jupyter-widgets/base",
            "overflow": null,
            "_model_module_version": "1.2.0",
            "_view_count": null,
            "flex_flow": null,
            "width": null,
            "min_width": null,
            "border": null,
            "align_items": null,
            "bottom": null,
            "_model_module": "@jupyter-widgets/base",
            "top": null,
            "grid_column": null,
            "overflow_y": null,
            "overflow_x": null,
            "grid_auto_flow": null,
            "grid_area": null,
            "grid_template_columns": null,
            "flex": null,
            "_model_name": "LayoutModel",
            "justify_items": null,
            "grid_row": null,
            "max_height": null,
            "align_content": null,
            "visibility": null,
            "align_self": null,
            "height": null,
            "min_height": null,
            "padding": null,
            "grid_auto_rows": null,
            "grid_gap": null,
            "max_width": null,
            "order": null,
            "_view_module_version": "1.2.0",
            "grid_template_areas": null,
            "object_position": null,
            "object_fit": null,
            "grid_auto_columns": null,
            "margin": null,
            "display": null,
            "left": null
          }
        },
        "61d5b79b53bd44e5bcb8e44c6d5efb37": {
          "model_module": "@jupyter-widgets/controls",
          "model_name": "FloatProgressModel",
          "state": {
            "_view_name": "ProgressView",
            "style": "IPY_MODEL_9528710698fa44c4b5d6cc6613ec9d9c",
            "_dom_classes": [],
            "description": "100%",
            "_model_name": "FloatProgressModel",
            "bar_style": "success",
            "max": 21388428,
            "_view_module": "@jupyter-widgets/controls",
            "_model_module_version": "1.5.0",
            "value": 21388428,
            "_view_count": null,
            "_view_module_version": "1.5.0",
            "orientation": "horizontal",
            "min": 0,
            "description_tooltip": null,
            "_model_module": "@jupyter-widgets/controls",
            "layout": "IPY_MODEL_70721a4b8b524e8781217a94ce607230"
          }
        },
        "87a308c017c443049f49f72d100207e5": {
          "model_module": "@jupyter-widgets/controls",
          "model_name": "HTMLModel",
          "state": {
            "_view_name": "HTMLView",
            "style": "IPY_MODEL_9c0707ac5ad444eebcff54ed703e758b",
            "_dom_classes": [],
            "description": "",
            "_model_name": "HTMLModel",
            "placeholder": "​",
            "_view_module": "@jupyter-widgets/controls",
            "_model_module_version": "1.5.0",
            "value": " 20.4M/20.4M [00:00&lt;00:00, 98.3MB/s]",
            "_view_count": null,
            "_view_module_version": "1.5.0",
            "description_tooltip": null,
            "_model_module": "@jupyter-widgets/controls",
            "layout": "IPY_MODEL_400673b6625542779f375755bc4d0a48"
          }
        },
        "9528710698fa44c4b5d6cc6613ec9d9c": {
          "model_module": "@jupyter-widgets/controls",
          "model_name": "ProgressStyleModel",
          "state": {
            "_view_name": "StyleView",
            "_model_name": "ProgressStyleModel",
            "description_width": "initial",
            "_view_module": "@jupyter-widgets/base",
            "_model_module_version": "1.5.0",
            "_view_count": null,
            "_view_module_version": "1.2.0",
            "bar_color": null,
            "_model_module": "@jupyter-widgets/controls"
          }
        },
        "70721a4b8b524e8781217a94ce607230": {
          "model_module": "@jupyter-widgets/base",
          "model_name": "LayoutModel",
          "state": {
            "_view_name": "LayoutView",
            "grid_template_rows": null,
            "right": null,
            "justify_content": null,
            "_view_module": "@jupyter-widgets/base",
            "overflow": null,
            "_model_module_version": "1.2.0",
            "_view_count": null,
            "flex_flow": null,
            "width": null,
            "min_width": null,
            "border": null,
            "align_items": null,
            "bottom": null,
            "_model_module": "@jupyter-widgets/base",
            "top": null,
            "grid_column": null,
            "overflow_y": null,
            "overflow_x": null,
            "grid_auto_flow": null,
            "grid_area": null,
            "grid_template_columns": null,
            "flex": null,
            "_model_name": "LayoutModel",
            "justify_items": null,
            "grid_row": null,
            "max_height": null,
            "align_content": null,
            "visibility": null,
            "align_self": null,
            "height": null,
            "min_height": null,
            "padding": null,
            "grid_auto_rows": null,
            "grid_gap": null,
            "max_width": null,
            "order": null,
            "_view_module_version": "1.2.0",
            "grid_template_areas": null,
            "object_position": null,
            "object_fit": null,
            "grid_auto_columns": null,
            "margin": null,
            "display": null,
            "left": null
          }
        },
        "9c0707ac5ad444eebcff54ed703e758b": {
          "model_module": "@jupyter-widgets/controls",
          "model_name": "DescriptionStyleModel",
          "state": {
            "_view_name": "StyleView",
            "_model_name": "DescriptionStyleModel",
            "description_width": "",
            "_view_module": "@jupyter-widgets/base",
            "_model_module_version": "1.5.0",
            "_view_count": null,
            "_view_module_version": "1.2.0",
            "_model_module": "@jupyter-widgets/controls"
          }
        },
        "400673b6625542779f375755bc4d0a48": {
          "model_module": "@jupyter-widgets/base",
          "model_name": "LayoutModel",
          "state": {
            "_view_name": "LayoutView",
            "grid_template_rows": null,
            "right": null,
            "justify_content": null,
            "_view_module": "@jupyter-widgets/base",
            "overflow": null,
            "_model_module_version": "1.2.0",
            "_view_count": null,
            "flex_flow": null,
            "width": null,
            "min_width": null,
            "border": null,
            "align_items": null,
            "bottom": null,
            "_model_module": "@jupyter-widgets/base",
            "top": null,
            "grid_column": null,
            "overflow_y": null,
            "overflow_x": null,
            "grid_auto_flow": null,
            "grid_area": null,
            "grid_template_columns": null,
            "flex": null,
            "_model_name": "LayoutModel",
            "justify_items": null,
            "grid_row": null,
            "max_height": null,
            "align_content": null,
            "visibility": null,
            "align_self": null,
            "height": null,
            "min_height": null,
            "padding": null,
            "grid_auto_rows": null,
            "grid_gap": null,
            "max_width": null,
            "order": null,
            "_view_module_version": "1.2.0",
            "grid_template_areas": null,
            "object_position": null,
            "object_fit": null,
            "grid_auto_columns": null,
            "margin": null,
            "display": null,
            "left": null
          }
        }
      }
    }
  },
  "cells": [
    {
      "cell_type": "markdown",
      "metadata": {
        "id": "Fyd_4Z_Yvx3d"
      },
      "source": [
        "#Image classification models covered :\n",
        "\n",
        "resnet18 = models.resnet18(pretrained=True)\n",
        "\n",
        "resnet34 = models.resnet34(pretrained=True)\n",
        "\n",
        "resnet50 = models.resnet50(pretrained=True)\n",
        "\n",
        "resnet101 = models.resnet101(pretrained=True)\n",
        "\n",
        "resnet152 = models.resnet152(pretrained=True)\n",
        "\n",
        "vgg16 = models.vgg16(pretrained=True)\n",
        "\n",
        "vgg19 = models.vgg16(pretrained=True)\n",
        "\n",
        "squeezenet = models.squeezenet1_0(pretrained=True)\n",
        "\n",
        "mobilenet = models.mobilenet_v2(pretrained=True)\n",
        "\n",
        "inceptionv3 = models.inception_v3(pretrained=True)"
      ]
    },
    {
      "cell_type": "code",
      "metadata": {
        "id": "ewnAh25Z6e8z"
      },
      "source": [
        "import io\n",
        "import os\n",
        "import hashlib\n",
        "import tempfile\n",
        "import requests\n",
        "import numpy as np\n",
        "from PIL import Image\n",
        "from argparse import ArgumentParser\n",
        "\n",
        "import torch\n",
        "from efficientnet_pytorch import EfficientNet\n",
        "import torchvision.transforms as transforms\n",
        "\n",
        "IMAGENET_MEAN = (0.485, 0.456, 0.406)\n",
        "IMAGENET_STD = (0.229, 0.224, 0.225)\n",
        "\n",
        "# for example we are using the Resnet18\n",
        "from torchvision import models"
      ],
      "execution_count": 1,
      "outputs": []
    },
    {
      "cell_type": "code",
      "metadata": {
        "id": "OZYeESfG7EE9"
      },
      "source": [
        "# define helper functions\n",
        "def fetch(url):\n",
        "  # efficient loading of URLS\n",
        "  fp = os.path.join(tempfile.gettempdir(), hashlib.md5(url.encode('utf-8')).hexdigest())\n",
        "  if os.path.isfile(fp) and os.stat(fp).st_size > 0:\n",
        "    with open(fp, \"rb\") as f:\n",
        "      dat = f.read()\n",
        "  else:\n",
        "    print(\"fetching\", url)\n",
        "    dat = requests.get(url).content\n",
        "    with open(fp+\".tmp\", \"wb\") as f:\n",
        "      f.write(dat)\n",
        "    os.rename(fp+\".tmp\", fp)\n",
        "  return dat\n",
        "\n",
        "def get_image_net_labels():\n",
        "  with open(\"labels.txt\", 'r') as f:\n",
        "    labels_map = [x.split(sep=' ', maxsplit=1)[-1].strip()[10:] for x in f]\n",
        "  return labels_map"
      ],
      "execution_count": 2,
      "outputs": []
    },
    {
      "cell_type": "code",
      "metadata": {
        "id": "G6_q_dPS7ODK"
      },
      "source": [
        "labels = get_image_net_labels()"
      ],
      "execution_count": 3,
      "outputs": []
    },
    {
      "cell_type": "markdown",
      "metadata": {
        "id": "WXfon7vNt-_5"
      },
      "source": [
        "Uncomment required model for usage"
      ]
    },
    {
      "cell_type": "code",
      "metadata": {
        "id": "O8XHwAqj-rZ9"
      },
      "source": [
        "#model = EfficientNet.from_pretrained('efficientnet-b0')\n",
        "#model = EfficientNet.from_pretrained('efficientnet-b1')\n",
        "#model = EfficientNet.from_pretrained('efficientnet-b2')\n",
        "#model = EfficientNet.from_pretrained('efficientnet-b3')\n",
        "#model = EfficientNet.from_pretrained('efficientnet-b4')\n",
        "#model = EfficientNet.from_pretrained('efficientnet-b5')\n",
        "#model = EfficientNet.from_pretrained('efficientnet-b6')\n",
        "#model = EfficientNet.from_pretrained('efficientnet-b7')"
      ],
      "execution_count": 4,
      "outputs": []
    },
    {
      "cell_type": "code",
      "metadata": {
        "id": "vOVU7AKr7Q_O",
        "colab": {
          "base_uri": "https://localhost:8080/",
          "height": 122,
          "referenced_widgets": [
            "cdd6b7eccadf4eb8bca81f83432fdbf5",
            "dec99bb1cbee4090828eff4249a50b13",
            "61d5b79b53bd44e5bcb8e44c6d5efb37",
            "87a308c017c443049f49f72d100207e5",
            "9528710698fa44c4b5d6cc6613ec9d9c",
            "70721a4b8b524e8781217a94ce607230",
            "9c0707ac5ad444eebcff54ed703e758b",
            "400673b6625542779f375755bc4d0a48"
          ]
        },
        "outputId": "f90d22af-80ae-4930-965a-591cd98a6f68"
      },
      "source": [
        "# load the model by downloading pretrained weights\n",
        "model = EfficientNet.from_pretrained('efficientnet-b0')\n",
        "_ = model.eval()"
      ],
      "execution_count": 13,
      "outputs": [
        {
          "output_type": "stream",
          "text": [
            "Downloading: \"https://github.com/lukemelas/EfficientNet-PyTorch/releases/download/1.0/efficientnet-b0-355c32eb.pth\" to /root/.cache/torch/hub/checkpoints/efficientnet-b0-355c32eb.pth\n"
          ],
          "name": "stderr"
        },
        {
          "output_type": "display_data",
          "data": {
            "application/vnd.jupyter.widget-view+json": {
              "model_id": "cdd6b7eccadf4eb8bca81f83432fdbf5",
              "version_minor": 0,
              "version_major": 2
            },
            "text/plain": [
              "HBox(children=(FloatProgress(value=0.0, max=21388428.0), HTML(value='')))"
            ]
          },
          "metadata": {
            "tags": []
          }
        },
        {
          "output_type": "stream",
          "text": [
            "\n",
            "Loaded pretrained weights for efficientnet-b0\n"
          ],
          "name": "stdout"
        }
      ]
    },
    {
      "cell_type": "code",
      "metadata": {
        "id": "HlY5zfg-7c1u"
      },
      "source": [
        "# define the image transformations to apply to each image\n",
        "image_transformations = transforms.Compose([\n",
        "    transforms.Resize(256),                               # resize to a (256,256) image\n",
        "    transforms.CenterCrop(224),                           # crop centre part of image to get (244, 244) grid\n",
        "    transforms.ToTensor(),                                # convert to tensor\n",
        "    transforms.Normalize(IMAGENET_MEAN, IMAGENET_STD),    # normalise image according to imagenet valuess\n",
        "])"
      ],
      "execution_count": 14,
      "outputs": []
    },
    {
      "cell_type": "code",
      "metadata": {
        "colab": {
          "base_uri": "https://localhost:8080/"
        },
        "id": "LDI9yPBx7hZd",
        "outputId": "9582c154-2813-4fe1-c8bb-5fe7ad6fb7e2"
      },
      "source": [
        "url = \"https://upload.wikimedia.org/wikipedia/commons/thumb/4/43/07._Camel_Profile%2C_near_Silverton%2C_NSW%2C_07.07.2007.jpg/1200px-07._Camel_Profile%2C_near_Silverton%2C_NSW%2C_07.07.2007.jpg\"#\"some/url/to/some/image.jpg\"\n",
        "image = Image.open(io.BytesIO(fetch(url)))  # load any image\n",
        "x = image_transformations(image) # [3, H, W]\n",
        "x = x.view(1, *x.size())\n",
        "x.size()"
      ],
      "execution_count": 15,
      "outputs": [
        {
          "output_type": "execute_result",
          "data": {
            "text/plain": [
              "torch.Size([1, 3, 224, 224])"
            ]
          },
          "metadata": {
            "tags": []
          },
          "execution_count": 15
        }
      ]
    },
    {
      "cell_type": "code",
      "metadata": {
        "id": "rhdtEx697jgR"
      },
      "source": [
        "with torch.no_grad():\n",
        "    out = model(x)"
      ],
      "execution_count": 16,
      "outputs": []
    },
    {
      "cell_type": "code",
      "metadata": {
        "colab": {
          "base_uri": "https://localhost:8080/"
        },
        "id": "cKjJalgC77_6",
        "outputId": "4d8581ab-0372-4e41-f9d5-095dc9d7e726"
      },
      "source": [
        "# keep the top 10 scores\n",
        "number_top = 10\n",
        "probs, indices = torch.topk(out, number_top)\n",
        "print(f\"Top {number_top} results:\")\n",
        "print(\"===============\")\n",
        "for p, i in zip(probs[0], indices[0]):\n",
        "    print(p, \"--\", labels[i])"
      ],
      "execution_count": 17,
      "outputs": [
        {
          "output_type": "stream",
          "text": [
            "Top 10 results:\n",
            "===============\n",
            "tensor(10.6979) -- Arabian_camel,_dromedary,_Camelus_dromedarius\n",
            "tensor(5.5358) -- llama\n",
            "tensor(4.0592) -- gazelle\n",
            "tensor(3.9918) -- bighorn,_bighorn_sheep,_cimarron,_Rocky_Mountain_bighorn,_Rocky_Mountain_sheep,_Ovis_canadensis\n",
            "tensor(3.3354) -- sorrel\n",
            "tensor(3.2294) -- impala,_Aepyceros_melampus\n",
            "tensor(2.4651) -- ram,_tup\n",
            "tensor(2.3280) -- ostrich,_Struthio_camelus\n",
            "tensor(2.3230) -- ibex,_Capra_ibex\n",
            "tensor(2.2993) -- koala,_koala_bear,_kangaroo_bear,_native_bear,_Phascolarctos_cinereus\n"
          ],
          "name": "stdout"
        }
      ]
    },
    {
      "cell_type": "markdown",
      "metadata": {
        "id": "zlElhgvjxebF"
      },
      "source": [
        "Since EffcientNet uses Swish activation function, conversion to ONNX and hence OpenVino is not supported at the time of writing the notebook."
      ]
    },
    {
      "cell_type": "code",
      "metadata": {
        "colab": {
          "base_uri": "https://localhost:8080/",
          "height": 1000
        },
        "id": "0__uYm5r7-UE",
        "outputId": "ec87813c-4098-4ec7-97f2-ac2600e77dc4"
      },
      "source": [
        "# convert to ONNX\n",
        "print(\"-\"*70)\n",
        "print(\"Now we are converting this pytorch model to ONNX model\")\n",
        "torch.onnx._export(model, x, f'efficientnet-b3.onnx', export_params=True)\n",
        "print(f\"See in the folder we have a resnet18.onnx file\")\n",
        "print(\"-\"*70)\n"
      ],
      "execution_count": 18,
      "outputs": [
        {
          "output_type": "stream",
          "text": [
            "----------------------------------------------------------------------\n",
            "Now we are converting this pytorch model to ONNX model\n"
          ],
          "name": "stdout"
        },
        {
          "output_type": "error",
          "ename": "RuntimeError",
          "evalue": "ignored",
          "traceback": [
            "\u001b[0;31m---------------------------------------------------------------------------\u001b[0m",
            "\u001b[0;31mRuntimeError\u001b[0m                              Traceback (most recent call last)",
            "\u001b[0;32m<ipython-input-18-5e3424b7b4a6>\u001b[0m in \u001b[0;36m<module>\u001b[0;34m()\u001b[0m\n\u001b[1;32m      2\u001b[0m \u001b[0mprint\u001b[0m\u001b[0;34m(\u001b[0m\u001b[0;34m\"-\"\u001b[0m\u001b[0;34m*\u001b[0m\u001b[0;36m70\u001b[0m\u001b[0;34m)\u001b[0m\u001b[0;34m\u001b[0m\u001b[0;34m\u001b[0m\u001b[0m\n\u001b[1;32m      3\u001b[0m \u001b[0mprint\u001b[0m\u001b[0;34m(\u001b[0m\u001b[0;34m\"Now we are converting this pytorch model to ONNX model\"\u001b[0m\u001b[0;34m)\u001b[0m\u001b[0;34m\u001b[0m\u001b[0;34m\u001b[0m\u001b[0m\n\u001b[0;32m----> 4\u001b[0;31m \u001b[0mtorch\u001b[0m\u001b[0;34m.\u001b[0m\u001b[0monnx\u001b[0m\u001b[0;34m.\u001b[0m\u001b[0m_export\u001b[0m\u001b[0;34m(\u001b[0m\u001b[0mmodel\u001b[0m\u001b[0;34m,\u001b[0m \u001b[0mx\u001b[0m\u001b[0;34m,\u001b[0m \u001b[0;34mf'efficientnet-b3.onnx'\u001b[0m\u001b[0;34m,\u001b[0m \u001b[0mexport_params\u001b[0m\u001b[0;34m=\u001b[0m\u001b[0;32mTrue\u001b[0m\u001b[0;34m)\u001b[0m\u001b[0;34m\u001b[0m\u001b[0;34m\u001b[0m\u001b[0m\n\u001b[0m\u001b[1;32m      5\u001b[0m \u001b[0mprint\u001b[0m\u001b[0;34m(\u001b[0m\u001b[0;34mf\"See in the folder we have a resnet18.onnx file\"\u001b[0m\u001b[0;34m)\u001b[0m\u001b[0;34m\u001b[0m\u001b[0;34m\u001b[0m\u001b[0m\n\u001b[1;32m      6\u001b[0m \u001b[0mprint\u001b[0m\u001b[0;34m(\u001b[0m\u001b[0;34m\"-\"\u001b[0m\u001b[0;34m*\u001b[0m\u001b[0;36m70\u001b[0m\u001b[0;34m)\u001b[0m\u001b[0;34m\u001b[0m\u001b[0;34m\u001b[0m\u001b[0m\n",
            "\u001b[0;32m/usr/local/lib/python3.6/dist-packages/torch/onnx/__init__.py\u001b[0m in \u001b[0;36m_export\u001b[0;34m(*args, **kwargs)\u001b[0m\n\u001b[1;32m     26\u001b[0m \u001b[0;32mdef\u001b[0m \u001b[0m_export\u001b[0m\u001b[0;34m(\u001b[0m\u001b[0;34m*\u001b[0m\u001b[0margs\u001b[0m\u001b[0;34m,\u001b[0m \u001b[0;34m**\u001b[0m\u001b[0mkwargs\u001b[0m\u001b[0;34m)\u001b[0m\u001b[0;34m:\u001b[0m\u001b[0;34m\u001b[0m\u001b[0;34m\u001b[0m\u001b[0m\n\u001b[1;32m     27\u001b[0m     \u001b[0;32mfrom\u001b[0m \u001b[0mtorch\u001b[0m\u001b[0;34m.\u001b[0m\u001b[0monnx\u001b[0m \u001b[0;32mimport\u001b[0m \u001b[0mutils\u001b[0m\u001b[0;34m\u001b[0m\u001b[0;34m\u001b[0m\u001b[0m\n\u001b[0;32m---> 28\u001b[0;31m     \u001b[0mresult\u001b[0m \u001b[0;34m=\u001b[0m \u001b[0mutils\u001b[0m\u001b[0;34m.\u001b[0m\u001b[0m_export\u001b[0m\u001b[0;34m(\u001b[0m\u001b[0;34m*\u001b[0m\u001b[0margs\u001b[0m\u001b[0;34m,\u001b[0m \u001b[0;34m**\u001b[0m\u001b[0mkwargs\u001b[0m\u001b[0;34m)\u001b[0m\u001b[0;34m\u001b[0m\u001b[0;34m\u001b[0m\u001b[0m\n\u001b[0m\u001b[1;32m     29\u001b[0m     \u001b[0;32mreturn\u001b[0m \u001b[0mresult\u001b[0m\u001b[0;34m\u001b[0m\u001b[0;34m\u001b[0m\u001b[0m\n\u001b[1;32m     30\u001b[0m \u001b[0;34m\u001b[0m\u001b[0m\n",
            "\u001b[0;32m/usr/local/lib/python3.6/dist-packages/torch/onnx/utils.py\u001b[0m in \u001b[0;36m_export\u001b[0;34m(model, args, f, export_params, verbose, training, input_names, output_names, operator_export_type, export_type, example_outputs, opset_version, _retain_param_name, do_constant_folding, strip_doc_string, dynamic_axes, keep_initializers_as_inputs, fixed_batch_size, custom_opsets, add_node_names, enable_onnx_checker, use_external_data_format, onnx_shape_inference, use_new_jit_passes)\u001b[0m\n\u001b[1;32m    648\u001b[0m                     \u001b[0mparams_dict\u001b[0m\u001b[0;34m,\u001b[0m \u001b[0mopset_version\u001b[0m\u001b[0;34m,\u001b[0m \u001b[0mdynamic_axes\u001b[0m\u001b[0;34m,\u001b[0m \u001b[0mdefer_weight_export\u001b[0m\u001b[0;34m,\u001b[0m\u001b[0;34m\u001b[0m\u001b[0;34m\u001b[0m\u001b[0m\n\u001b[1;32m    649\u001b[0m                     \u001b[0moperator_export_type\u001b[0m\u001b[0;34m,\u001b[0m \u001b[0mstrip_doc_string\u001b[0m\u001b[0;34m,\u001b[0m \u001b[0mval_keep_init_as_ip\u001b[0m\u001b[0;34m,\u001b[0m \u001b[0mcustom_opsets\u001b[0m\u001b[0;34m,\u001b[0m\u001b[0;34m\u001b[0m\u001b[0;34m\u001b[0m\u001b[0m\n\u001b[0;32m--> 650\u001b[0;31m                     val_add_node_names, val_use_external_data_format, model_file_location)\n\u001b[0m\u001b[1;32m    651\u001b[0m             \u001b[0;32melse\u001b[0m\u001b[0;34m:\u001b[0m\u001b[0;34m\u001b[0m\u001b[0;34m\u001b[0m\u001b[0m\n\u001b[1;32m    652\u001b[0m                 proto, export_map = graph._export_onnx(\n",
            "\u001b[0;31mRuntimeError\u001b[0m: ONNX export failed: Couldn't export Python operator SwishImplementation\n\nDefined at:\n/usr/local/lib/python3.6/dist-packages/efficientnet_pytorch/utils.py(76): forward\n/usr/local/lib/python3.6/dist-packages/torch/nn/modules/module.py(709): _slow_forward\n/usr/local/lib/python3.6/dist-packages/torch/nn/modules/module.py(725): _call_impl\n/usr/local/lib/python3.6/dist-packages/efficientnet_pytorch/model.py(286): extract_features\n/usr/local/lib/python3.6/dist-packages/efficientnet_pytorch/model.py(311): forward\n/usr/local/lib/python3.6/dist-packages/torch/nn/modules/module.py(709): _slow_forward\n/usr/local/lib/python3.6/dist-packages/torch/nn/modules/module.py(725): _call_impl\n/usr/local/lib/python3.6/dist-packages/torch/jit/_trace.py(116): wrapper\n/usr/local/lib/python3.6/dist-packages/torch/jit/_trace.py(130): forward\n/usr/local/lib/python3.6/dist-packages/torch/nn/modules/module.py(727): _call_impl\n/usr/local/lib/python3.6/dist-packages/torch/jit/_trace.py(1148): _get_trace_graph\n/usr/local/lib/python3.6/dist-packages/torch/onnx/utils.py(342): _trace_and_get_graph_from_model\n/usr/local/lib/python3.6/dist-packages/torch/onnx/utils.py(379): _create_jit_graph\n/usr/local/lib/python3.6/dist-packages/torch/onnx/utils.py(411): _model_to_graph\n/usr/local/lib/python3.6/dist-packages/torch/onnx/utils.py(639): _export\n/usr/local/lib/python3.6/dist-packages/torch/onnx/__init__.py(28): _export\n<ipython-input-18-5e3424b7b4a6>(4): <module>\n/usr/local/lib/python3.6/dist-packages/IPython/core/interactiveshell.py(2882): run_code\n/usr/local/lib/python3.6/dist-packages/IPython/core/interactiveshell.py(2822): run_ast_nodes\n/usr/local/lib/python3.6/dist-packages/IPython/core/interactiveshell.py(2718): run_cell\n/usr/local/lib/python3.6/dist-packages/ipykernel/zmqshell.py(537): run_cell\n/usr/local/lib/python3.6/dist-packages/ipykernel/ipkernel.py(208): do_execute\n/usr/local/lib/python3.6/dist-packages/ipykernel/kernelbase.py(399): execute_request\n/usr/local/lib/python3.6/dist-packages/ipykernel/kernelbase.py(233): dispatch_shell\n/usr/local/lib/python3.6/dist-packages/ipykernel/kernelbase.py(283): dispatcher\n/usr/local/lib/python3.6/dist-packages/tornado/stack_context.py(300): null_wrapper\n/usr/local/lib/python3.6/dist-packages/zmq/eventloop/zmqstream.py(444): _run_callback\n/usr/local/lib/python3.6/dist-packages/zmq/eventloop/zmqstream.py(492): _handle_recv\n/usr/local/lib/python3.6/dist-packages/zmq/eventloop/zmqstream.py(462): _handle_events\n/usr/local/lib/python3.6/dist-packages/tornado/stack_context.py(300): null_wrapper\n/usr/local/lib/python3.6/dist-packages/tornado/platform/asyncio.py(122): _handle_events\n/usr/lib/python3.6/asyncio/events.py(145): _run\n/usr/lib/python3.6/asyncio/base_events.py(1451): _run_once\n/usr/lib/python3.6/asyncio/base_events.py(438): run_forever\n/usr/local/lib/python3.6/dist-packages/tornado/platform/asyncio.py(132): start\n/usr/local/lib/python3.6/dist-packages/ipykernel/kernelapp.py(499): start\n/usr/local/lib/python3.6/dist-packages/traitlets/config/application.py(664): launch_instance\n/usr/local/lib/python3.6/dist-packages/ipykernel_launcher.py(16): <module>\n/usr/lib/python3.6/runpy.py(85): _run_code\n/usr/lib/python3.6/runpy.py(193): _run_module_as_main\n\n\nGraph we tried to export:\ngraph(%input.1 : Float(1:150528, 3:50176, 224:224, 224:1, requires_grad=0, device=cpu),\n      %13 : Float(8:32, 32:1, 1:1, 1:1, requires_grad=1, device=cpu),\n      %14 : Float(8:1, requires_grad=1, device=cpu),\n      %15 : Float(32:8, 8:1, 1:1, 1:1, requires_grad=1, device=cpu),\n      %16 : Float(32:1, requires_grad=1, device=cpu),\n      %35 : Float(4:96, 96:1, 1:1, 1:1, requires_grad=1, device=cpu),\n      %36 : Float(4:1, requires_grad=1, device=cpu),\n      %37 : Float(96:4, 4:1, 1:1, 1:1, requires_grad=1, device=cpu),\n      %38 : Float(96:1, requires_grad=1, device=cpu),\n      %57 : Float(6:144, 144:1, 1:1, 1:1, requires_grad=1, device=cpu),\n      %58 : Float(6:1, requires_grad=1, device=cpu),\n      %59 : Float(144:6, 6:1, 1:1, 1:1, requires_grad=1, device=cpu),\n      %60 : Float(144:1, requires_grad=1, device=cpu),\n      %79 : Float(6:144, 144:1, 1:1, 1:1, requires_grad=1, device=cpu),\n      %80 : Float(6:1, requires_grad=1, device=cpu),\n      %81 : Float(144:6, 6:1, 1:1, 1:1, requires_grad=1, device=cpu),\n      %82 : Float(144:1, requires_grad=1, device=cpu),\n      %101 : Float(10:240, 240:1, 1:1, 1:1, requires_grad=1, device=cpu),\n      %102 : Float(10:1, requires_grad=1, device=cpu),\n      %103 : Float(240:10, 10:1, 1:1, 1:1, requires_grad=1, device=cpu),\n      %104 : Float(240:1, requires_grad=1, device=cpu),\n      %123 : Float(10:240, 240:1, 1:1, 1:1, requires_grad=1, device=cpu),\n      %124 : Float(10:1, requires_grad=1, device=cpu),\n      %125 : Float(240:10, 10:1, 1:1, 1:1, requires_grad=1, device=cpu),\n      %126 : Float(240:1, requires_grad=1, device=cpu),\n      %145 : Float(20:480, 480:1, 1:1, 1:1, requires_grad=1, device=cpu),\n      %146 : Float(20:1, requires_grad=1, device=cpu),\n      %147 : Float(480:20, 20:1, 1:1, 1:1, requires_grad=1, device=cpu),\n      %148 : Float(480:1, requires_grad=1, device=cpu),\n      %167 : Float(20:480, 480:1, 1:1, 1:1, requires_grad=1, device=cpu),\n      %168 : Float(20:1, requires_grad=1, device=cpu),\n      %169 : Float(480:20, 20:1, 1:1, 1:1, requires_grad=1, device=cpu),\n      %170 : Float(480:1, requires_grad=1, device=cpu),\n      %189 : Float(20:480, 480:1, 1:1, 1:1, requires_grad=1, device=cpu),\n      %190 : Float(20:1, requires_grad=1, device=cpu),\n      %191 : Float(480:20, 20:1, 1:1, 1:1, requires_grad=1, device=cpu),\n      %192 : Float(480:1, requires_grad=1, device=cpu),\n      %211 : Float(28:672, 672:1, 1:1, 1:1, requires_grad=1, device=cpu),\n      %212 : Float(28:1, requires_grad=1, device=cpu),\n      %213 : Float(672:28, 28:1, 1:1, 1:1, requires_grad=1, device=cpu),\n      %214 : Float(672:1, requires_grad=1, device=cpu),\n      %233 : Float(28:672, 672:1, 1:1, 1:1, requires_grad=1, device=cpu),\n      %234 : Float(28:1, requires_grad=1, device=cpu),\n      %235 : Float(672:28, 28:1, 1:1, 1:1, requires_grad=1, device=cpu),\n      %236 : Float(672:1, requires_grad=1, device=cpu),\n      %255 : Float(28:672, 672:1, 1:1, 1:1, requires_grad=1, device=cpu),\n      %256 : Float(28:1, requires_grad=1, device=cpu),\n      %257 : Float(672:28, 28:1, 1:1, 1:1, requires_grad=1, device=cpu),\n      %258 : Float(672:1, requires_grad=1, device=cpu),\n      %277 : Float(48:1152, 1152:1, 1:1, 1:1, requires_grad=1, device=cpu),\n      %278 : Float(48:1, requires_grad=1, device=cpu),\n      %279 : Float(1152:48, 48:1, 1:1, 1:1, requires_grad=1, device=cpu),\n      %280 : Float(1152:1, requires_grad=1, device=cpu),\n      %299 : Float(48:1152, 1152:1, 1:1, 1:1, requires_grad=1, device=cpu),\n      %300 : Float(48:1, requires_grad=1, device=cpu),\n      %301 : Float(1152:48, 48:1, 1:1, 1:1, requires_grad=1, device=cpu),\n      %302 : Float(1152:1, requires_grad=1, device=cpu),\n      %321 : Float(48:1152, 1152:1, 1:1, 1:1, requires_grad=1, device=cpu),\n      %322 : Float(48:1, requires_grad=1, device=cpu),\n      %323 : Float(1152:48, 48:1, 1:1, 1:1, requires_grad=1, device=cpu),\n      %324 : Float(1152:1, requires_grad=1, device=cpu),\n      %343 : Float(48:1152, 1152:1, 1:1, 1:1, requires_grad=1, device=cpu),\n      %344 : Float(48:1, requires_grad=1, device=cpu),\n      %345 : Float(1152:48, 48:1, 1:1, 1:1, requires_grad=1, device=cpu),\n      %346 : Float(1152:1, requires_grad=1, device=cpu),\n      %359 : Float(1000:1280, 1280:1, requires_grad=1, device=cpu),\n      %360 : Float(1000:1, requires_grad=1, device=cpu),\n      %618 : Float(32:27, 3:9, 3:3, 3:1, requires_grad=0, device=cpu),\n      %619 : Float(32:1, requires_grad=0, device=cpu),\n      %621 : Float(32:9, 1:9, 3:3, 3:1, requires_grad=0, device=cpu),\n      %622 : Float(32:1, requires_grad=0, device=cpu),\n      %624 : Float(16:32, 32:1, 1:1, 1:1, requires_grad=0, device=cpu),\n      %625 : Float(16:1, requires_grad=0, device=cpu),\n      %627 : Float(96:16, 16:1, 1:1, 1:1, requires_grad=0, device=cpu),\n      %628 : Float(96:1, requires_grad=0, device=cpu),\n      %630 : Float(96:9, 1:9, 3:3, 3:1, requires_grad=0, device=cpu),\n      %631 : Float(96:1, requires_grad=0, device=cpu),\n      %633 : Float(24:96, 96:1, 1:1, 1:1, requires_grad=0, device=cpu),\n      %634 : Float(24:1, requires_grad=0, device=cpu),\n      %636 : Float(144:24, 24:1, 1:1, 1:1, requires_grad=0, device=cpu),\n      %637 : Float(144:1, requires_grad=0, device=cpu),\n      %639 : Float(144:9, 1:9, 3:3, 3:1, requires_grad=0, device=cpu),\n      %640 : Float(144:1, requires_grad=0, device=cpu),\n      %642 : Float(24:144, 144:1, 1:1, 1:1, requires_grad=0, device=cpu),\n      %643 : Float(24:1, requires_grad=0, device=cpu),\n      %645 : Float(144:24, 24:1, 1:1, 1:1, requires_grad=0, device=cpu),\n      %646 : Float(144:1, requires_grad=0, device=cpu),\n      %648 : Float(144:25, 1:25, 5:5, 5:1, requires_grad=0, device=cpu),\n      %649 : Float(144:1, requires_grad=0, device=cpu),\n      %651 : Float(40:144, 144:1, 1:1, 1:1, requires_grad=0, device=cpu),\n      %652 : Float(40:1, requires_grad=0, device=cpu),\n      %654 : Float(240:40, 40:1, 1:1, 1:1, requires_grad=0, device=cpu),\n      %655 : Float(240:1, requires_grad=0, device=cpu),\n      %657 : Float(240:25, 1:25, 5:5, 5:1, requires_grad=0, device=cpu),\n      %658 : Float(240:1, requires_grad=0, device=cpu),\n      %660 : Float(40:240, 240:1, 1:1, 1:1, requires_grad=0, device=cpu),\n      %661 : Float(40:1, requires_grad=0, device=cpu),\n      %663 : Float(240:40, 40:1, 1:1, 1:1, requires_grad=0, device=cpu),\n      %664 : Float(240:1, requires_grad=0, device=cpu),\n      %666 : Float(240:9, 1:9, 3:3, 3:1, requires_grad=0, device=cpu),\n      %667 : Float(240:1, requires_grad=0, device=cpu),\n      %669 : Float(80:240, 240:1, 1:1, 1:1, requires_grad=0, device=cpu),\n      %670 : Float(80:1, requires_grad=0, device=cpu),\n      %672 : Float(480:80, 80:1, 1:1, 1:1, requires_grad=0, device=cpu),\n      %673 : Float(480:1, requires_grad=0, device=cpu),\n      %675 : Float(480:9, 1:9, 3:3, 3:1, requires_grad=0, device=cpu),\n      %676 : Float(480:1, requires_grad=0, device=cpu),\n      %678 : Float(80:480, 480:1, 1:1, 1:1, requires_grad=0, device=cpu),\n      %679 : Float(80:1, requires_grad=0, device=cpu),\n      %681 : Float(480:80, 80:1, 1:1, 1:1, requires_grad=0, device=cpu),\n      %682 : Float(480:1, requires_grad=0, device=cpu),\n      %684 : Float(480:9, 1:9, 3:3, 3:1, requires_grad=0, device=cpu),\n      %685 : Float(480:1, requires_grad=0, device=cpu),\n      %687 : Float(80:480, 480:1, 1:1, 1:1, requires_grad=0, device=cpu),\n      %688 : Float(80:1, requires_grad=0, device=cpu),\n      %690 : Float(480:80, 80:1, 1:1, 1:1, requires_grad=0, device=cpu),\n      %691 : Float(480:1, requires_grad=0, device=cpu),\n      %693 : Float(480:25, 1:25, 5:5, 5:1, requires_grad=0, device=cpu),\n      %694 : Float(480:1, requires_grad=0, device=cpu),\n      %696 : Float(112:480, 480:1, 1:1, 1:1, requires_grad=0, device=cpu),\n      %697 : Float(112:1, requires_grad=0, device=cpu),\n      %699 : Float(672:112, 112:1, 1:1, 1:1, requires_grad=0, device=cpu),\n      %700 : Float(672:1, requires_grad=0, device=cpu),\n      %702 : Float(672:25, 1:25, 5:5, 5:1, requires_grad=0, device=cpu),\n      %703 : Float(672:1, requires_grad=0, device=cpu),\n      %705 : Float(112:672, 672:1, 1:1, 1:1, requires_grad=0, device=cpu),\n      %706 : Float(112:1, requires_grad=0, device=cpu),\n      %708 : Float(672:112, 112:1, 1:1, 1:1, requires_grad=0, device=cpu),\n      %709 : Float(672:1, requires_grad=0, device=cpu),\n      %711 : Float(672:25, 1:25, 5:5, 5:1, requires_grad=0, device=cpu),\n      %712 : Float(672:1, requires_grad=0, device=cpu),\n      %714 : Float(112:672, 672:1, 1:1, 1:1, requires_grad=0, device=cpu),\n      %715 : Float(112:1, requires_grad=0, device=cpu),\n      %717 : Float(672:112, 112:1, 1:1, 1:1, requires_grad=0, device=cpu),\n      %718 : Float(672:1, requires_grad=0, device=cpu),\n      %720 : Float(672:25, 1:25, 5:5, 5:1, requires_grad=0, device=cpu),\n      %721 : Float(672:1, requires_grad=0, device=cpu),\n      %723 : Float(192:672, 672:1, 1:1, 1:1, requires_grad=0, device=cpu),\n      %724 : Float(192:1, requires_grad=0, device=cpu),\n      %726 : Float(1152:192, 192:1, 1:1, 1:1, requires_grad=0, device=cpu),\n      %727 : Float(1152:1, requires_grad=0, device=cpu),\n      %729 : Float(1152:25, 1:25, 5:5, 5:1, requires_grad=0, device=cpu),\n      %730 : Float(1152:1, requires_grad=0, device=cpu),\n      %732 : Float(192:1152, 1152:1, 1:1, 1:1, requires_grad=0, device=cpu),\n      %733 : Float(192:1, requires_grad=0, device=cpu),\n      %735 : Float(1152:192, 192:1, 1:1, 1:1, requires_grad=0, device=cpu),\n      %736 : Float(1152:1, requires_grad=0, device=cpu),\n      %738 : Float(1152:25, 1:25, 5:5, 5:1, requires_grad=0, device=cpu),\n      %739 : Float(1152:1, requires_grad=0, device=cpu),\n      %741 : Float(192:1152, 1152:1, 1:1, 1:1, requires_grad=0, device=cpu),\n      %742 : Float(192:1, requires_grad=0, device=cpu),\n      %744 : Float(1152:192, 192:1, 1:1, 1:1, requires_grad=0, device=cpu),\n      %745 : Float(1152:1, requires_grad=0, device=cpu),\n      %747 : Float(1152:25, 1:25, 5:5, 5:1, requires_grad=0, device=cpu),\n      %748 : Float(1152:1, requires_grad=0, device=cpu),\n      %750 : Float(192:1152, 1152:1, 1:1, 1:1, requires_grad=0, device=cpu),\n      %751 : Float(192:1, requires_grad=0, device=cpu),\n      %753 : Float(1152:192, 192:1, 1:1, 1:1, requires_grad=0, device=cpu),\n      %754 : Float(1152:1, requires_grad=0, device=cpu),\n      %756 : Float(1152:9, 1:9, 3:3, 3:1, requires_grad=0, device=cpu),\n      %757 : Float(1152:1, requires_grad=0, device=cpu),\n      %759 : Float(320:1152, 1152:1, 1:1, 1:1, requires_grad=0, device=cpu),\n      %760 : Float(320:1, requires_grad=0, device=cpu),\n      %762 : Float(1280:320, 320:1, 1:1, 1:1, requires_grad=0, device=cpu),\n      %763 : Float(1280:1, requires_grad=0, device=cpu)):\n  %361 : Float(1:153228, 3:51076, 226:226, 226:1, requires_grad=0, device=cpu) = onnx::Pad[mode=\"constant\", pads=[0, 0, 1, 1, 0, 0, 1, 1], value=0.](%input.1) # /usr/local/lib/python3.6/dist-packages/torch/nn/functional.py:3553:0\n  %617 : Float(1:401408, 32:12544, 112:112, 112:1, requires_grad=1, device=cpu) = onnx::Conv[dilations=[1, 1], group=1, kernel_shape=[3, 3], pads=[0, 0, 0, 0], strides=[2, 2]](%361, %618, %619)\n  %input.3 : Float(1:401408, 32:12544, 112:112, 112:1, requires_grad=1, device=cpu) = ^SwishImplementation()(%617) # /usr/local/lib/python3.6/dist-packages/efficientnet_pytorch/utils.py:76:0\n  %365 : Float(1:415872, 32:12996, 114:114, 114:1, requires_grad=1, device=cpu) = onnx::Pad[mode=\"constant\", pads=[0, 0, 1, 1, 0, 0, 1, 1], value=0.](%input.3) # /usr/local/lib/python3.6/dist-packages/torch/nn/functional.py:3553:0\n  %620 : Float(1:401408, 32:12544, 112:112, 112:1, requires_grad=1, device=cpu) = onnx::Conv[dilations=[1, 1], group=32, kernel_shape=[3, 3], pads=[0, 0, 0, 0], strides=[1, 1]](%365, %621, %622)\n  %x.3 : Float(1:401408, 32:12544, 112:112, 112:1, requires_grad=1, device=cpu) = ^SwishImplementation()(%620) # /usr/local/lib/python3.6/dist-packages/efficientnet_pytorch/utils.py:76:0\n  %369 : Float(1:32, 32:1, 1:1, 1:1, requires_grad=1, device=cpu) = onnx::GlobalAveragePool(%x.3) # /usr/local/lib/python3.6/dist-packages/torch/nn/functional.py:936:0\n  %370 : Float(1:8, 8:1, 1:1, 1:1, requires_grad=1, device=cpu) = onnx::Conv[dilations=[1, 1], group=1, kernel_shape=[1, 1], pads=[0, 0, 0, 0], strides=[1, 1]](%369, %13, %14) # /usr/local/lib/python3.6/dist-packages/efficientnet_pytorch/utils.py:271:0\n  %371 : Float(1:8, 8:1, 1:1, 1:1, requires_grad=1, device=cpu) = ^SwishImplementation()(%370) # /usr/local/lib/python3.6/dist-packages/efficientnet_pytorch/utils.py:76:0\n  %372 : Float(1:32, 32:1, 1:1, 1:1, requires_grad=1, device=cpu) = onnx::Conv[dilations=[1, 1], group=1, kernel_shape=[1, 1], pads=[0, 0, 0, 0], strides=[1, 1]](%371, %15, %16) # /usr/local/lib/python3.6/dist-packages/efficientnet_pytorch/utils.py:271:0\n  %373 : Float(1:32, 32:1, 1:1, 1:1, requires_grad=1, device=cpu) = onnx::Sigmoid(%372) # /usr/local/lib/python3.6/dist-packages/efficientnet_pytorch/model.py:119:0\n  %374 : Float(1:401408, 32:12544, 112:112, 112:1, requires_grad=1, device=cpu) = onnx::Mul(%373, %x.3) # /usr/local/lib/python3.6/dist-packages/efficientnet_pytorch/model.py:119:0\n  %623 : Float(1:200704, 16:12544, 112:112, 112:1, requires_grad=1, device=cpu) = onnx::Conv[dilations=[1, 1], group=1, kernel_shape=[1, 1], pads=[0, 0, 0, 0], strides=[1, 1]](%374, %624, %625)\n  %626 : Float(1:1204224, 96:12544, 112:112, 112:1, requires_grad=1, device=cpu) = onnx::Conv[dilations=[1, 1], group=1, kernel_shape=[1, 1], pads=[0, 0, 0, 0], strides=[1, 1]](%623, %627, %628)\n  %input.7 : Float(1:1204224, 96:12544, 112:112, 112:1, requires_grad=1, device=cpu) = ^SwishImplementation()(%626) # /usr/local/lib/python3.6/dist-packages/efficientnet_pytorch/utils.py:76:0\n  %380 : Float(1:1247616, 96:12996, 114:114, 114:1, requires_grad=1, device=cpu) = onnx::Pad[mode=\"constant\", pads=[0, 0, 1, 1, 0, 0, 1, 1], value=0.](%input.7) # /usr/local/lib/python3.6/dist-packages/torch/nn/functional.py:3553:0\n  %629 : Float(1:301056, 96:3136, 56:56, 56:1, requires_grad=1, device=cpu) = onnx::Conv[dilations=[1, 1], group=96, kernel_shape=[3, 3], pads=[0, 0, 0, 0], strides=[2, 2]](%380, %630, %631)\n  %x.7 : Float(1:301056, 96:3136, 56:56, 56:1, requires_grad=1, device=cpu) = ^SwishImplementation()(%629) # /usr/local/lib/python3.6/dist-packages/efficientnet_pytorch/utils.py:76:0\n  %384 : Float(1:96, 96:1, 1:1, 1:1, requires_grad=1, device=cpu) = onnx::GlobalAveragePool(%x.7) # /usr/local/lib/python3.6/dist-packages/torch/nn/functional.py:936:0\n  %385 : Float(1:4, 4:1, 1:1, 1:1, requires_grad=1, device=cpu) = onnx::Conv[dilations=[1, 1], group=1, kernel_shape=[1, 1], pads=[0, 0, 0, 0], strides=[1, 1]](%384, %35, %36) # /usr/local/lib/python3.6/dist-packages/efficientnet_pytorch/utils.py:271:0\n  %386 : Float(1:4, 4:1, 1:1, 1:1, requires_grad=1, device=cpu) = ^SwishImplementation()(%385) # /usr/local/lib/python3.6/dist-packages/efficientnet_pytorch/utils.py:76:0\n  %387 : Float(1:96, 96:1, 1:1, 1:1, requires_grad=1, device=cpu) = onnx::Conv[dilations=[1, 1], group=1, kernel_shape=[1, 1], pads=[0, 0, 0, 0], strides=[1, 1]](%386, %37, %38) # /usr/local/lib/python3.6/dist-packages/efficientnet_pytorch/utils.py:271:0\n  %388 : Float(1:96, 96:1, 1:1, 1:1, requires_grad=1, device=cpu) = onnx::Sigmoid(%387) # /usr/local/lib/python3.6/dist-packages/efficientnet_pytorch/model.py:119:0\n  %389 : Float(1:301056, 96:3136, 56:56, 56:1, requires_grad=1, device=cpu) = onnx::Mul(%388, %x.7) # /usr/local/lib/python3.6/dist-packages/efficientnet_pytorch/model.py:119:0\n  %632 : Float(1:75264, 24:3136, 56:56, 56:1, requires_grad=1, device=cpu) = onnx::Conv[dilations=[1, 1], group=1, kernel_shape=[1, 1], pads=[0, 0, 0, 0], strides=[1, 1]](%389, %633, %634)\n  %635 : Float(1:451584, 144:3136, 56:56, 56:1, requires_grad=1, device=cpu) = onnx::Conv[dilations=[1, 1], group=1, kernel_shape=[1, 1], pads=[0, 0, 0, 0], strides=[1, 1]](%632, %636, %637)\n  %input.11 : Float(1:451584, 144:3136, 56:56, 56:1, requires_grad=1, device=cpu) = ^SwishImplementation()(%635) # /usr/local/lib/python3.6/dist-packages/efficientnet_pytorch/utils.py:76:0\n  %395 : Float(1:484416, 144:3364, 58:58, 58:1, requires_grad=1, device=cpu) = onnx::Pad[mode=\"constant\", pads=[0, 0, 1, 1, 0, 0, 1, 1], value=0.](%input.11) # /usr/local/lib/python3.6/dist-packages/torch/nn/functional.py:3553:0\n  %638 : Float(1:451584, 144:3136, 56:56, 56:1, requires_grad=1, device=cpu) = onnx::Conv[dilations=[1, 1], group=144, kernel_shape=[3, 3], pads=[0, 0, 0, 0], strides=[1, 1]](%395, %639, %640)\n  %x.11 : Float(1:451584, 144:3136, 56:56, 56:1, requires_grad=1, device=cpu) = ^SwishImplementation()(%638) # /usr/local/lib/python3.6/dist-packages/efficientnet_pytorch/utils.py:76:0\n  %399 : Float(1:144, 144:1, 1:1, 1:1, requires_grad=1, device=cpu) = onnx::GlobalAveragePool(%x.11) # /usr/local/lib/python3.6/dist-packages/torch/nn/functional.py:936:0\n  %400 : Float(1:6, 6:1, 1:1, 1:1, requires_grad=1, device=cpu) = onnx::Conv[dilations=[1, 1], group=1, kernel_shape=[1, 1], pads=[0, 0, 0, 0], strides=[1, 1]](%399, %57, %58) # /usr/local/lib/python3.6/dist-packages/efficientnet_pytorch/utils.py:271:0\n  %401 : Float(1:6, 6:1, 1:1, 1:1, requires_grad=1, device=cpu) = ^SwishImplementation()(%400) # /usr/local/lib/python3.6/dist-packages/efficientnet_pytorch/utils.py:76:0\n  %402 : Float(1:144, 144:1, 1:1, 1:1, requires_grad=1, device=cpu) = onnx::Conv[dilations=[1, 1], group=1, kernel_shape=[1, 1], pads=[0, 0, 0, 0], strides=[1, 1]](%401, %59, %60) # /usr/local/lib/python3.6/dist-packages/efficientnet_pytorch/utils.py:271:0\n  %403 : Float(1:144, 144:1, 1:1, 1:1, requires_grad=1, device=cpu) = onnx::Sigmoid(%402) # /usr/local/lib/python3.6/dist-packages/efficientnet_pytorch/model.py:119:0\n  %404 : Float(1:451584, 144:3136, 56:56, 56:1, requires_grad=1, device=cpu) = onnx::Mul(%403, %x.11) # /usr/local/lib/python3.6/dist-packages/efficientnet_pytorch/model.py:119:0\n  %641 : Float(1:75264, 24:3136, 56:56, 56:1, requires_grad=1, device=cpu) = onnx::Conv[dilations=[1, 1], group=1, kernel_shape=[1, 1], pads=[0, 0, 0, 0], strides=[1, 1]](%404, %642, %643)\n  %407 : Float(1:75264, 24:3136, 56:56, 56:1, requires_grad=1, device=cpu) = onnx::Add(%641, %632) # /usr/local/lib/python3.6/dist-packages/efficientnet_pytorch/model.py:131:0\n  %644 : Float(1:451584, 144:3136, 56:56, 56:1, requires_grad=1, device=cpu) = onnx::Conv[dilations=[1, 1], group=1, kernel_shape=[1, 1], pads=[0, 0, 0, 0], strides=[1, 1]](%407, %645, %646)\n  %input.15 : Float(1:451584, 144:3136, 56:56, 56:1, requires_grad=1, device=cpu) = ^SwishImplementation()(%644) # /usr/local/lib/python3.6/dist-packages/efficientnet_pytorch/utils.py:76:0\n  %411 : Float(1:518400, 144:3600, 60:60, 60:1, requires_grad=1, device=cpu) = onnx::Pad[mode=\"constant\", pads=[0, 0, 2, 2, 0, 0, 2, 2], value=0.](%input.15) # /usr/local/lib/python3.6/dist-packages/torch/nn/functional.py:3553:0\n  %647 : Float(1:112896, 144:784, 28:28, 28:1, requires_grad=1, device=cpu) = onnx::Conv[dilations=[1, 1], group=144, kernel_shape=[5, 5], pads=[0, 0, 0, 0], strides=[2, 2]](%411, %648, %649)\n  %x.15 : Float(1:112896, 144:784, 28:28, 28:1, requires_grad=1, device=cpu) = ^SwishImplementation()(%647) # /usr/local/lib/python3.6/dist-packages/efficientnet_pytorch/utils.py:76:0\n  %415 : Float(1:144, 144:1, 1:1, 1:1, requires_grad=1, device=cpu) = onnx::GlobalAveragePool(%x.15) # /usr/local/lib/python3.6/dist-packages/torch/nn/functional.py:936:0\n  %416 : Float(1:6, 6:1, 1:1, 1:1, requires_grad=1, device=cpu) = onnx::Conv[dilations=[1, 1], group=1, kernel_shape=[1, 1], pads=[0, 0, 0, 0], strides=[1, 1]](%415, %79, %80) # /usr/local/lib/python3.6/dist-packages/efficientnet_pytorch/utils.py:271:0\n  %417 : Float(1:6, 6:1, 1:1, 1:1, requires_grad=1, device=cpu) = ^SwishImplementation()(%416) # /usr/local/lib/python3.6/dist-packages/efficientnet_pytorch/utils.py:76:0\n  %418 : Float(1:144, 144:1, 1:1, 1:1, requires_grad=1, device=cpu) = onnx::Conv[dilations=[1, 1], group=1, kernel_shape=[1, 1], pads=[0, 0, 0, 0], strides=[1, 1]](%417, %81, %82) # /usr/local/lib/python3.6/dist-packages/efficientnet_pytorch/utils.py:271:0\n  %419 : Float(1:144, 144:1, 1:1, 1:1, requires_grad=1, device=cpu) = onnx::Sigmoid(%418) # /usr/local/lib/python3.6/dist-packages/efficientnet_pytorch/model.py:119:0\n  %420 : Float(1:112896, 144:784, 28:28, 28:1, requires_grad=1, device=cpu) = onnx::Mul(%419, %x.15) # /usr/local/lib/python3.6/dist-packages/efficientnet_pytorch/model.py:119:0\n  %650 : Float(1:31360, 40:784, 28:28, 28:1, requires_grad=1, device=cpu) = onnx::Conv[dilations=[1, 1], group=1, kernel_shape=[1, 1], pads=[0, 0, 0, 0], strides=[1, 1]](%420, %651, %652)\n  %653 : Float(1:188160, 240:784, 28:28, 28:1, requires_grad=1, device=cpu) = onnx::Conv[dilations=[1, 1], group=1, kernel_shape=[1, 1], pads=[0, 0, 0, 0], strides=[1, 1]](%650, %654, %655)\n  %input.19 : Float(1:188160, 240:784, 28:28, 28:1, requires_grad=1, device=cpu) = ^SwishImplementation()(%653) # /usr/local/lib/python3.6/dist-packages/efficientnet_pytorch/utils.py:76:0\n  %426 : Float(1:245760, 240:1024, 32:32, 32:1, requires_grad=1, device=cpu) = onnx::Pad[mode=\"constant\", pads=[0, 0, 2, 2, 0, 0, 2, 2], value=0.](%input.19) # /usr/local/lib/python3.6/dist-packages/torch/nn/functional.py:3553:0\n  %656 : Float(1:188160, 240:784, 28:28, 28:1, requires_grad=1, device=cpu) = onnx::Conv[dilations=[1, 1], group=240, kernel_shape=[5, 5], pads=[0, 0, 0, 0], strides=[1, 1]](%426, %657, %658)\n  %x.19 : Float(1:188160, 240:784, 28:28, 28:1, requires_grad=1, device=cpu) = ^SwishImplementation()(%656) # /usr/local/lib/python3.6/dist-packages/efficientnet_pytorch/utils.py:76:0\n  %430 : Float(1:240, 240:1, 1:1, 1:1, requires_grad=1, device=cpu) = onnx::GlobalAveragePool(%x.19) # /usr/local/lib/python3.6/dist-packages/torch/nn/functional.py:936:0\n  %431 : Float(1:10, 10:1, 1:1, 1:1, requires_grad=1, device=cpu) = onnx::Conv[dilations=[1, 1], group=1, kernel_shape=[1, 1], pads=[0, 0, 0, 0], strides=[1, 1]](%430, %101, %102) # /usr/local/lib/python3.6/dist-packages/efficientnet_pytorch/utils.py:271:0\n  %432 : Float(1:10, 10:1, 1:1, 1:1, requires_grad=1, device=cpu) = ^SwishImplementation()(%431) # /usr/local/lib/python3.6/dist-packages/efficientnet_pytorch/utils.py:76:0\n  %433 : Float(1:240, 240:1, 1:1, 1:1, requires_grad=1, device=cpu) = onnx::Conv[dilations=[1, 1], group=1, kernel_shape=[1, 1], pads=[0, 0, 0, 0], strides=[1, 1]](%432, %103, %104) # /usr/local/lib/python3.6/dist-packages/efficientnet_pytorch/utils.py:271:0\n  %434 : Float(1:240, 240:1, 1:1, 1:1, requires_grad=1, device=cpu) = onnx::Sigmoid(%433) # /usr/local/lib/python3.6/dist-packages/efficientnet_pytorch/model.py:119:0\n  %435 : Float(1:188160, 240:784, 28:28, 28:1, requires_grad=1, device=cpu) = onnx::Mul(%434, %x.19) # /usr/local/lib/python3.6/dist-packages/efficientnet_pytorch/model.py:119:0\n  %659 : Float(1:31360, 40:784, 28:28, 28:1, requires_grad=1, device=cpu) = onnx::Conv[dilations=[1, 1], group=1, kernel_shape=[1, 1], pads=[0, 0, 0, 0], strides=[1, 1]](%435, %660, %661)\n  %438 : Float(1:31360, 40:784, 28:28, 28:1, requires_grad=1, device=cpu) = onnx::Add(%659, %650) # /usr/local/lib/python3.6/dist-packages/efficientnet_pytorch/model.py:131:0\n  %662 : Float(1:188160, 240:784, 28:28, 28:1, requires_grad=1, device=cpu) = onnx::Conv[dilations=[1, 1], group=1, kernel_shape=[1, 1], pads=[0, 0, 0, 0], strides=[1, 1]](%438, %663, %664)\n  %input.23 : Float(1:188160, 240:784, 28:28, 28:1, requires_grad=1, device=cpu) = ^SwishImplementation()(%662) # /usr/local/lib/python3.6/dist-packages/efficientnet_pytorch/utils.py:76:0\n  %442 : Float(1:216000, 240:900, 30:30, 30:1, requires_grad=1, device=cpu) = onnx::Pad[mode=\"constant\", pads=[0, 0, 1, 1, 0, 0, 1, 1], value=0.](%input.23) # /usr/local/lib/python3.6/dist-packages/torch/nn/functional.py:3553:0\n  %665 : Float(1:47040, 240:196, 14:14, 14:1, requires_grad=1, device=cpu) = onnx::Conv[dilations=[1, 1], group=240, kernel_shape=[3, 3], pads=[0, 0, 0, 0], strides=[2, 2]](%442, %666, %667)\n  %x.23 : Float(1:47040, 240:196, 14:14, 14:1, requires_grad=1, device=cpu) = ^SwishImplementation()(%665) # /usr/local/lib/python3.6/dist-packages/efficientnet_pytorch/utils.py:76:0\n  %446 : Float(1:240, 240:1, 1:1, 1:1, requires_grad=1, device=cpu) = onnx::GlobalAveragePool(%x.23) # /usr/local/lib/python3.6/dist-packages/torch/nn/functional.py:936:0\n  %447 : Float(1:10, 10:1, 1:1, 1:1, requires_grad=1, device=cpu) = onnx::Conv[dilations=[1, 1], group=1, kernel_shape=[1, 1], pads=[0, 0, 0, 0], strides=[1, 1]](%446, %123, %124) # /usr/local/lib/python3.6/dist-packages/efficientnet_pytorch/utils.py:271:0\n  %448 : Float(1:10, 10:1, 1:1, 1:1, requires_grad=1, device=cpu) = ^SwishImplementation()(%447) # /usr/local/lib/python3.6/dist-packages/efficientnet_pytorch/utils.py:76:0\n  %449 : Float(1:240, 240:1, 1:1, 1:1, requires_grad=1, device=cpu) = onnx::Conv[dilations=[1, 1], group=1, kernel_shape=[1, 1], pads=[0, 0, 0, 0], strides=[1, 1]](%448, %125, %126) # /usr/local/lib/python3.6/dist-packages/efficientnet_pytorch/utils.py:271:0\n  %450 : Float(1:240, 240:1, 1:1, 1:1, requires_grad=1, device=cpu) = onnx::Sigmoid(%449) # /usr/local/lib/python3.6/dist-packages/efficientnet_pytorch/model.py:119:0\n  %451 : Float(1:47040, 240:196, 14:14, 14:1, requires_grad=1, device=cpu) = onnx::Mul(%450, %x.23) # /usr/local/lib/python3.6/dist-packages/efficientnet_pytorch/model.py:119:0\n  %668 : Float(1:15680, 80:196, 14:14, 14:1, requires_grad=1, device=cpu) = onnx::Conv[dilations=[1, 1], group=1, kernel_shape=[1, 1], pads=[0, 0, 0, 0], strides=[1, 1]](%451, %669, %670)\n  %671 : Float(1:94080, 480:196, 14:14, 14:1, requires_grad=1, device=cpu) = onnx::Conv[dilations=[1, 1], group=1, kernel_shape=[1, 1], pads=[0, 0, 0, 0], strides=[1, 1]](%668, %672, %673)\n  %input.27 : Float(1:94080, 480:196, 14:14, 14:1, requires_grad=1, device=cpu) = ^SwishImplementation()(%671) # /usr/local/lib/python3.6/dist-packages/efficientnet_pytorch/utils.py:76:0\n  %457 : Float(1:122880, 480:256, 16:16, 16:1, requires_grad=1, device=cpu) = onnx::Pad[mode=\"constant\", pads=[0, 0, 1, 1, 0, 0, 1, 1], value=0.](%input.27) # /usr/local/lib/python3.6/dist-packages/torch/nn/functional.py:3553:0\n  %674 : Float(1:94080, 480:196, 14:14, 14:1, requires_grad=1, device=cpu) = onnx::Conv[dilations=[1, 1], group=480, kernel_shape=[3, 3], pads=[0, 0, 0, 0], strides=[1, 1]](%457, %675, %676)\n  %x.27 : Float(1:94080, 480:196, 14:14, 14:1, requires_grad=1, device=cpu) = ^SwishImplementation()(%674) # /usr/local/lib/python3.6/dist-packages/efficientnet_pytorch/utils.py:76:0\n  %461 : Float(1:480, 480:1, 1:1, 1:1, requires_grad=1, device=cpu) = onnx::GlobalAveragePool(%x.27) # /usr/local/lib/python3.6/dist-packages/torch/nn/functional.py:936:0\n  %462 : Float(1:20, 20:1, 1:1, 1:1, requires_grad=1, device=cpu) = onnx::Conv[dilations=[1, 1], group=1, kernel_shape=[1, 1], pads=[0, 0, 0, 0], strides=[1, 1]](%461, %145, %146) # /usr/local/lib/python3.6/dist-packages/efficientnet_pytorch/utils.py:271:0\n  %463 : Float(1:20, 20:1, 1:1, 1:1, requires_grad=1, device=cpu) = ^SwishImplementation()(%462) # /usr/local/lib/python3.6/dist-packages/efficientnet_pytorch/utils.py:76:0\n  %464 : Float(1:480, 480:1, 1:1, 1:1, requires_grad=1, device=cpu) = onnx::Conv[dilations=[1, 1], group=1, kernel_shape=[1, 1], pads=[0, 0, 0, 0], strides=[1, 1]](%463, %147, %148) # /usr/local/lib/python3.6/dist-packages/efficientnet_pytorch/utils.py:271:0\n  %465 : Float(1:480, 480:1, 1:1, 1:1, requires_grad=1, device=cpu) = onnx::Sigmoid(%464) # /usr/local/lib/python3.6/dist-packages/efficientnet_pytorch/model.py:119:0\n  %466 : Float(1:94080, 480:196, 14:14, 14:1, requires_grad=1, device=cpu) = onnx::Mul(%465, %x.27) # /usr/local/lib/python3.6/dist-packages/efficientnet_pytorch/model.py:119:0\n  %677 : Float(1:15680, 80:196, 14:14, 14:1, requires_grad=1, device=cpu) = onnx::Conv[dilations=[1, 1], group=1, kernel_shape=[1, 1], pads=[0, 0, 0, 0], strides=[1, 1]](%466, %678, %679)\n  %469 : Float(1:15680, 80:196, 14:14, 14:1, requires_grad=1, device=cpu) = onnx::Add(%677, %668) # /usr/local/lib/python3.6/dist-packages/efficientnet_pytorch/model.py:131:0\n  %680 : Float(1:94080, 480:196, 14:14, 14:1, requires_grad=1, device=cpu) = onnx::Conv[dilations=[1, 1], group=1, kernel_shape=[1, 1], pads=[0, 0, 0, 0], strides=[1, 1]](%469, %681, %682)\n  %input.31 : Float(1:94080, 480:196, 14:14, 14:1, requires_grad=1, device=cpu) = ^SwishImplementation()(%680) # /usr/local/lib/python3.6/dist-packages/efficientnet_pytorch/utils.py:76:0\n  %473 : Float(1:122880, 480:256, 16:16, 16:1, requires_grad=1, device=cpu) = onnx::Pad[mode=\"constant\", pads=[0, 0, 1, 1, 0, 0, 1, 1], value=0.](%input.31) # /usr/local/lib/python3.6/dist-packages/torch/nn/functional.py:3553:0\n  %683 : Float(1:94080, 480:196, 14:14, 14:1, requires_grad=1, device=cpu) = onnx::Conv[dilations=[1, 1], group=480, kernel_shape=[3, 3], pads=[0, 0, 0, 0], strides=[1, 1]](%473, %684, %685)\n  %x.31 : Float(1:94080, 480:196, 14:14, 14:1, requires_grad=1, device=cpu) = ^SwishImplementation()(%683) # /usr/local/lib/python3.6/dist-packages/efficientnet_pytorch/utils.py:76:0\n  %477 : Float(1:480, 480:1, 1:1, 1:1, requires_grad=1, device=cpu) = onnx::GlobalAveragePool(%x.31) # /usr/local/lib/python3.6/dist-packages/torch/nn/functional.py:936:0\n  %478 : Float(1:20, 20:1, 1:1, 1:1, requires_grad=1, device=cpu) = onnx::Conv[dilations=[1, 1], group=1, kernel_shape=[1, 1], pads=[0, 0, 0, 0], strides=[1, 1]](%477, %167, %168) # /usr/local/lib/python3.6/dist-packages/efficientnet_pytorch/utils.py:271:0\n  %479 : Float(1:20, 20:1, 1:1, 1:1, requires_grad=1, device=cpu) = ^SwishImplementation()(%478) # /usr/local/lib/python3.6/dist-packages/efficientnet_pytorch/utils.py:76:0\n  %480 : Float(1:480, 480:1, 1:1, 1:1, requires_grad=1, device=cpu) = onnx::Conv[dilations=[1, 1], group=1, kernel_shape=[1, 1], pads=[0, 0, 0, 0], strides=[1, 1]](%479, %169, %170) # /usr/local/lib/python3.6/dist-packages/efficientnet_pytorch/utils.py:271:0\n  %481 : Float(1:480, 480:1, 1:1, 1:1, requires_grad=1, device=cpu) = onnx::Sigmoid(%480) # /usr/local/lib/python3.6/dist-packages/efficientnet_pytorch/model.py:119:0\n  %482 : Float(1:94080, 480:196, 14:14, 14:1, requires_grad=1, device=cpu) = onnx::Mul(%481, %x.31) # /usr/local/lib/python3.6/dist-packages/efficientnet_pytorch/model.py:119:0\n  %686 : Float(1:15680, 80:196, 14:14, 14:1, requires_grad=1, device=cpu) = onnx::Conv[dilations=[1, 1], group=1, kernel_shape=[1, 1], pads=[0, 0, 0, 0], strides=[1, 1]](%482, %687, %688)\n  %485 : Float(1:15680, 80:196, 14:14, 14:1, requires_grad=1, device=cpu) = onnx::Add(%686, %469) # /usr/local/lib/python3.6/dist-packages/efficientnet_pytorch/model.py:131:0\n  %689 : Float(1:94080, 480:196, 14:14, 14:1, requires_grad=1, device=cpu) = onnx::Conv[dilations=[1, 1], group=1, kernel_shape=[1, 1], pads=[0, 0, 0, 0], strides=[1, 1]](%485, %690, %691)\n  %input.35 : Float(1:94080, 480:196, 14:14, 14:1, requires_grad=1, device=cpu) = ^SwishImplementation()(%689) # /usr/local/lib/python3.6/dist-packages/efficientnet_pytorch/utils.py:76:0\n  %489 : Float(1:155520, 480:324, 18:18, 18:1, requires_grad=1, device=cpu) = onnx::Pad[mode=\"constant\", pads=[0, 0, 2, 2, 0, 0, 2, 2], value=0.](%input.35) # /usr/local/lib/python3.6/dist-packages/torch/nn/functional.py:3553:0\n  %692 : Float(1:94080, 480:196, 14:14, 14:1, requires_grad=1, device=cpu) = onnx::Conv[dilations=[1, 1], group=480, kernel_shape=[5, 5], pads=[0, 0, 0, 0], strides=[1, 1]](%489, %693, %694)\n  %x.35 : Float(1:94080, 480:196, 14:14, 14:1, requires_grad=1, device=cpu) = ^SwishImplementation()(%692) # /usr/local/lib/python3.6/dist-packages/efficientnet_pytorch/utils.py:76:0\n  %493 : Float(1:480, 480:1, 1:1, 1:1, requires_grad=1, device=cpu) = onnx::GlobalAveragePool(%x.35) # /usr/local/lib/python3.6/dist-packages/torch/nn/functional.py:936:0\n  %494 : Float(1:20, 20:1, 1:1, 1:1, requires_grad=1, device=cpu) = onnx::Conv[dilations=[1, 1], group=1, kernel_shape=[1, 1], pads=[0, 0, 0, 0], strides=[1, 1]](%493, %189, %190) # /usr/local/lib/python3.6/dist-packages/efficientnet_pytorch/utils.py:271:0\n  %495 : Float(1:20, 20:1, 1:1, 1:1, requires_grad=1, device=cpu) = ^SwishImplementation()(%494) # /usr/local/lib/python3.6/dist-packages/efficientnet_pytorch/utils.py:76:0\n  %496 : Float(1:480, 480:1, 1:1, 1:1, requires_grad=1, device=cpu) = onnx::Conv[dilations=[1, 1], group=1, kernel_shape=[1, 1], pads=[0, 0, 0, 0], strides=[1, 1]](%495, %191, %192) # /usr/local/lib/python3.6/dist-packages/efficientnet_pytorch/utils.py:271:0\n  %497 : Float(1:480, 480:1, 1:1, 1:1, requires_grad=1, device=cpu) = onnx::Sigmoid(%496) # /usr/local/lib/python3.6/dist-packages/efficientnet_pytorch/model.py:119:0\n  %498 : Float(1:94080, 480:196, 14:14, 14:1, requires_grad=1, device=cpu) = onnx::Mul(%497, %x.35) # /usr/local/lib/python3.6/dist-packages/efficientnet_pytorch/model.py:119:0\n  %695 : Float(1:21952, 112:196, 14:14, 14:1, requires_grad=1, device=cpu) = onnx::Conv[dilations=[1, 1], group=1, kernel_shape=[1, 1], pads=[0, 0, 0, 0], strides=[1, 1]](%498, %696, %697)\n  %698 : Float(1:131712, 672:196, 14:14, 14:1, requires_grad=1, device=cpu) = onnx::Conv[dilations=[1, 1], group=1, kernel_shape=[1, 1], pads=[0, 0, 0, 0], strides=[1, 1]](%695, %699, %700)\n  %input.39 : Float(1:131712, 672:196, 14:14, 14:1, requires_grad=1, device=cpu) = ^SwishImplementation()(%698) # /usr/local/lib/python3.6/dist-packages/efficientnet_pytorch/utils.py:76:0\n  %504 : Float(1:217728, 672:324, 18:18, 18:1, requires_grad=1, device=cpu) = onnx::Pad[mode=\"constant\", pads=[0, 0, 2, 2, 0, 0, 2, 2], value=0.](%input.39) # /usr/local/lib/python3.6/dist-packages/torch/nn/functional.py:3553:0\n  %701 : Float(1:131712, 672:196, 14:14, 14:1, requires_grad=1, device=cpu) = onnx::Conv[dilations=[1, 1], group=672, kernel_shape=[5, 5], pads=[0, 0, 0, 0], strides=[1, 1]](%504, %702, %703)\n  %x.39 : Float(1:131712, 672:196, 14:14, 14:1, requires_grad=1, device=cpu) = ^SwishImplementation()(%701) # /usr/local/lib/python3.6/dist-packages/efficientnet_pytorch/utils.py:76:0\n  %508 : Float(1:672, 672:1, 1:1, 1:1, requires_grad=1, device=cpu) = onnx::GlobalAveragePool(%x.39) # /usr/local/lib/python3.6/dist-packages/torch/nn/functional.py:936:0\n  %509 : Float(1:28, 28:1, 1:1, 1:1, requires_grad=1, device=cpu) = onnx::Conv[dilations=[1, 1], group=1, kernel_shape=[1, 1], pads=[0, 0, 0, 0], strides=[1, 1]](%508, %211, %212) # /usr/local/lib/python3.6/dist-packages/efficientnet_pytorch/utils.py:271:0\n  %510 : Float(1:28, 28:1, 1:1, 1:1, requires_grad=1, device=cpu) = ^SwishImplementation()(%509) # /usr/local/lib/python3.6/dist-packages/efficientnet_pytorch/utils.py:76:0\n  %511 : Float(1:672, 672:1, 1:1, 1:1, requires_grad=1, device=cpu) = onnx::Conv[dilations=[1, 1], group=1, kernel_shape=[1, 1], pads=[0, 0, 0, 0], strides=[1, 1]](%510, %213, %214) # /usr/local/lib/python3.6/dist-packages/efficientnet_pytorch/utils.py:271:0\n  %512 : Float(1:672, 672:1, 1:1, 1:1, requires_grad=1, device=cpu) = onnx::Sigmoid(%511) # /usr/local/lib/python3.6/dist-packages/efficientnet_pytorch/model.py:119:0\n  %513 : Float(1:131712, 672:196, 14:14, 14:1, requires_grad=1, device=cpu) = onnx::Mul(%512, %x.39) # /usr/local/lib/python3.6/dist-packages/efficientnet_pytorch/model.py:119:0\n  %704 : Float(1:21952, 112:196, 14:14, 14:1, requires_grad=1, device=cpu) = onnx::Conv[dilations=[1, 1], group=1, kernel_shape=[1, 1], pads=[0, 0, 0, 0], strides=[1, 1]](%513, %705, %706)\n  %516 : Float(1:21952, 112:196, 14:14, 14:1, requires_grad=1, device=cpu) = onnx::Add(%704, %695) # /usr/local/lib/python3.6/dist-packages/efficientnet_pytorch/model.py:131:0\n  %707 : Float(1:131712, 672:196, 14:14, 14:1, requires_grad=1, device=cpu) = onnx::Conv[dilations=[1, 1], group=1, kernel_shape=[1, 1], pads=[0, 0, 0, 0], strides=[1, 1]](%516, %708, %709)\n  %input.43 : Float(1:131712, 672:196, 14:14, 14:1, requires_grad=1, device=cpu) = ^SwishImplementation()(%707) # /usr/local/lib/python3.6/dist-packages/efficientnet_pytorch/utils.py:76:0\n  %520 : Float(1:217728, 672:324, 18:18, 18:1, requires_grad=1, device=cpu) = onnx::Pad[mode=\"constant\", pads=[0, 0, 2, 2, 0, 0, 2, 2], value=0.](%input.43) # /usr/local/lib/python3.6/dist-packages/torch/nn/functional.py:3553:0\n  %710 : Float(1:131712, 672:196, 14:14, 14:1, requires_grad=1, device=cpu) = onnx::Conv[dilations=[1, 1], group=672, kernel_shape=[5, 5], pads=[0, 0, 0, 0], strides=[1, 1]](%520, %711, %712)\n  %x.43 : Float(1:131712, 672:196, 14:14, 14:1, requires_grad=1, device=cpu) = ^SwishImplementation()(%710) # /usr/local/lib/python3.6/dist-packages/efficientnet_pytorch/utils.py:76:0\n  %524 : Float(1:672, 672:1, 1:1, 1:1, requires_grad=1, device=cpu) = onnx::GlobalAveragePool(%x.43) # /usr/local/lib/python3.6/dist-packages/torch/nn/functional.py:936:0\n  %525 : Float(1:28, 28:1, 1:1, 1:1, requires_grad=1, device=cpu) = onnx::Conv[dilations=[1, 1], group=1, kernel_shape=[1, 1], pads=[0, 0, 0, 0], strides=[1, 1]](%524, %233, %234) # /usr/local/lib/python3.6/dist-packages/efficientnet_pytorch/utils.py:271:0\n  %526 : Float(1:28, 28:1, 1:1, 1:1, requires_grad=1, device=cpu) = ^SwishImplementation()(%525) # /usr/local/lib/python3.6/dist-packages/efficientnet_pytorch/utils.py:76:0\n  %527 : Float(1:672, 672:1, 1:1, 1:1, requires_grad=1, device=cpu) = onnx::Conv[dilations=[1, 1], group=1, kernel_shape=[1, 1], pads=[0, 0, 0, 0], strides=[1, 1]](%526, %235, %236) # /usr/local/lib/python3.6/dist-packages/efficientnet_pytorch/utils.py:271:0\n  %528 : Float(1:672, 672:1, 1:1, 1:1, requires_grad=1, device=cpu) = onnx::Sigmoid(%527) # /usr/local/lib/python3.6/dist-packages/efficientnet_pytorch/model.py:119:0\n  %529 : Float(1:131712, 672:196, 14:14, 14:1, requires_grad=1, device=cpu) = onnx::Mul(%528, %x.43) # /usr/local/lib/python3.6/dist-packages/efficientnet_pytorch/model.py:119:0\n  %713 : Float(1:21952, 112:196, 14:14, 14:1, requires_grad=1, device=cpu) = onnx::Conv[dilations=[1, 1], group=1, kernel_shape=[1, 1], pads=[0, 0, 0, 0], strides=[1, 1]](%529, %714, %715)\n  %532 : Float(1:21952, 112:196, 14:14, 14:1, requires_grad=1, device=cpu) = onnx::Add(%713, %516) # /usr/local/lib/python3.6/dist-packages/efficientnet_pytorch/model.py:131:0\n  %716 : Float(1:131712, 672:196, 14:14, 14:1, requires_grad=1, device=cpu) = onnx::Conv[dilations=[1, 1], group=1, kernel_shape=[1, 1], pads=[0, 0, 0, 0], strides=[1, 1]](%532, %717, %718)\n  %input.47 : Float(1:131712, 672:196, 14:14, 14:1, requires_grad=1, device=cpu) = ^SwishImplementation()(%716) # /usr/local/lib/python3.6/dist-packages/efficientnet_pytorch/utils.py:76:0\n  %536 : Float(1:217728, 672:324, 18:18, 18:1, requires_grad=1, device=cpu) = onnx::Pad[mode=\"constant\", pads=[0, 0, 2, 2, 0, 0, 2, 2], value=0.](%input.47) # /usr/local/lib/python3.6/dist-packages/torch/nn/functional.py:3553:0\n  %719 : Float(1:32928, 672:49, 7:7, 7:1, requires_grad=1, device=cpu) = onnx::Conv[dilations=[1, 1], group=672, kernel_shape=[5, 5], pads=[0, 0, 0, 0], strides=[2, 2]](%536, %720, %721)\n  %x.47 : Float(1:32928, 672:49, 7:7, 7:1, requires_grad=1, device=cpu) = ^SwishImplementation()(%719) # /usr/local/lib/python3.6/dist-packages/efficientnet_pytorch/utils.py:76:0\n  %540 : Float(1:672, 672:1, 1:1, 1:1, requires_grad=1, device=cpu) = onnx::GlobalAveragePool(%x.47) # /usr/local/lib/python3.6/dist-packages/torch/nn/functional.py:936:0\n  %541 : Float(1:28, 28:1, 1:1, 1:1, requires_grad=1, device=cpu) = onnx::Conv[dilations=[1, 1], group=1, kernel_shape=[1, 1], pads=[0, 0, 0, 0], strides=[1, 1]](%540, %255, %256) # /usr/local/lib/python3.6/dist-packages/efficientnet_pytorch/utils.py:271:0\n  %542 : Float(1:28, 28:1, 1:1, 1:1, requires_grad=1, device=cpu) = ^SwishImplementation()(%541) # /usr/local/lib/python3.6/dist-packages/efficientnet_pytorch/utils.py:76:0\n  %543 : Float(1:672, 672:1, 1:1, 1:1, requires_grad=1, device=cpu) = onnx::Conv[dilations=[1, 1], group=1, kernel_shape=[1, 1], pads=[0, 0, 0, 0], strides=[1, 1]](%542, %257, %258) # /usr/local/lib/python3.6/dist-packages/efficientnet_pytorch/utils.py:271:0\n  %544 : Float(1:672, 672:1, 1:1, 1:1, requires_grad=1, device=cpu) = onnx::Sigmoid(%543) # /usr/local/lib/python3.6/dist-packages/efficientnet_pytorch/model.py:119:0\n  %545 : Float(1:32928, 672:49, 7:7, 7:1, requires_grad=1, device=cpu) = onnx::Mul(%544, %x.47) # /usr/local/lib/python3.6/dist-packages/efficientnet_pytorch/model.py:119:0\n  %722 : Float(1:9408, 192:49, 7:7, 7:1, requires_grad=1, device=cpu) = onnx::Conv[dilations=[1, 1], group=1, kernel_shape=[1, 1], pads=[0, 0, 0, 0], strides=[1, 1]](%545, %723, %724)\n  %725 : Float(1:56448, 1152:49, 7:7, 7:1, requires_grad=1, device=cpu) = onnx::Conv[dilations=[1, 1], group=1, kernel_shape=[1, 1], pads=[0, 0, 0, 0], strides=[1, 1]](%722, %726, %727)\n  %input.51 : Float(1:56448, 1152:49, 7:7, 7:1, requires_grad=1, device=cpu) = ^SwishImplementation()(%725) # /usr/local/lib/python3.6/dist-packages/efficientnet_pytorch/utils.py:76:0\n  %551 : Float(1:139392, 1152:121, 11:11, 11:1, requires_grad=1, device=cpu) = onnx::Pad[mode=\"constant\", pads=[0, 0, 2, 2, 0, 0, 2, 2], value=0.](%input.51) # /usr/local/lib/python3.6/dist-packages/torch/nn/functional.py:3553:0\n  %728 : Float(1:56448, 1152:49, 7:7, 7:1, requires_grad=1, device=cpu) = onnx::Conv[dilations=[1, 1], group=1152, kernel_shape=[5, 5], pads=[0, 0, 0, 0], strides=[1, 1]](%551, %729, %730)\n  %x.51 : Float(1:56448, 1152:49, 7:7, 7:1, requires_grad=1, device=cpu) = ^SwishImplementation()(%728) # /usr/local/lib/python3.6/dist-packages/efficientnet_pytorch/utils.py:76:0\n  %555 : Float(1:1152, 1152:1, 1:1, 1:1, requires_grad=1, device=cpu) = onnx::GlobalAveragePool(%x.51) # /usr/local/lib/python3.6/dist-packages/torch/nn/functional.py:936:0\n  %556 : Float(1:48, 48:1, 1:1, 1:1, requires_grad=1, device=cpu) = onnx::Conv[dilations=[1, 1], group=1, kernel_shape=[1, 1], pads=[0, 0, 0, 0], strides=[1, 1]](%555, %277, %278) # /usr/local/lib/python3.6/dist-packages/efficientnet_pytorch/utils.py:271:0\n  %557 : Float(1:48, 48:1, 1:1, 1:1, requires_grad=1, device=cpu) = ^SwishImplementation()(%556) # /usr/local/lib/python3.6/dist-packages/efficientnet_pytorch/utils.py:76:0\n  %558 : Float(1:1152, 1152:1, 1:1, 1:1, requires_grad=1, device=cpu) = onnx::Conv[dilations=[1, 1], group=1, kernel_shape=[1, 1], pads=[0, 0, 0, 0], strides=[1, 1]](%557, %279, %280) # /usr/local/lib/python3.6/dist-packages/efficientnet_pytorch/utils.py:271:0\n  %559 : Float(1:1152, 1152:1, 1:1, 1:1, requires_grad=1, device=cpu) = onnx::Sigmoid(%558) # /usr/local/lib/python3.6/dist-packages/efficientnet_pytorch/model.py:119:0\n  %560 : Float(1:56448, 1152:49, 7:7, 7:1, requires_grad=1, device=cpu) = onnx::Mul(%559, %x.51) # /usr/local/lib/python3.6/dist-packages/efficientnet_pytorch/model.py:119:0\n  %731 : Float(1:9408, 192:49, 7:7, 7:1, requires_grad=1, device=cpu) = onnx::Conv[dilations=[1, 1], group=1, kernel_shape=[1, 1], pads=[0, 0, 0, 0], strides=[1, 1]](%560, %732, %733)\n  %563 : Float(1:9408, 192:49, 7:7, 7:1, requires_grad=1, device=cpu) = onnx::Add(%731, %722) # /usr/local/lib/python3.6/dist-packages/efficientnet_pytorch/model.py:131:0\n  %734 : Float(1:56448, 1152:49, 7:7, 7:1, requires_grad=1, device=cpu) = onnx::Conv[dilations=[1, 1], group=1, kernel_shape=[1, 1], pads=[0, 0, 0, 0], strides=[1, 1]](%563, %735, %736)\n  %input.55 : Float(1:56448, 1152:49, 7:7, 7:1, requires_grad=1, device=cpu) = ^SwishImplementation()(%734) # /usr/local/lib/python3.6/dist-packages/efficientnet_pytorch/utils.py:76:0\n  %567 : Float(1:139392, 1152:121, 11:11, 11:1, requires_grad=1, device=cpu) = onnx::Pad[mode=\"constant\", pads=[0, 0, 2, 2, 0, 0, 2, 2], value=0.](%input.55) # /usr/local/lib/python3.6/dist-packages/torch/nn/functional.py:3553:0\n  %737 : Float(1:56448, 1152:49, 7:7, 7:1, requires_grad=1, device=cpu) = onnx::Conv[dilations=[1, 1], group=1152, kernel_shape=[5, 5], pads=[0, 0, 0, 0], strides=[1, 1]](%567, %738, %739)\n  %x.55 : Float(1:56448, 1152:49, 7:7, 7:1, requires_grad=1, device=cpu) = ^SwishImplementation()(%737) # /usr/local/lib/python3.6/dist-packages/efficientnet_pytorch/utils.py:76:0\n  %571 : Float(1:1152, 1152:1, 1:1, 1:1, requires_grad=1, device=cpu) = onnx::GlobalAveragePool(%x.55) # /usr/local/lib/python3.6/dist-packages/torch/nn/functional.py:936:0\n  %572 : Float(1:48, 48:1, 1:1, 1:1, requires_grad=1, device=cpu) = onnx::Conv[dilations=[1, 1], group=1, kernel_shape=[1, 1], pads=[0, 0, 0, 0], strides=[1, 1]](%571, %299, %300) # /usr/local/lib/python3.6/dist-packages/efficientnet_pytorch/utils.py:271:0\n  %573 : Float(1:48, 48:1, 1:1, 1:1, requires_grad=1, device=cpu) = ^SwishImplementation()(%572) # /usr/local/lib/python3.6/dist-packages/efficientnet_pytorch/utils.py:76:0\n  %574 : Float(1:1152, 1152:1, 1:1, 1:1, requires_grad=1, device=cpu) = onnx::Conv[dilations=[1, 1], group=1, kernel_shape=[1, 1], pads=[0, 0, 0, 0], strides=[1, 1]](%573, %301, %302) # /usr/local/lib/python3.6/dist-packages/efficientnet_pytorch/utils.py:271:0\n  %575 : Float(1:1152, 1152:1, 1:1, 1:1, requires_grad=1, device=cpu) = onnx::Sigmoid(%574) # /usr/local/lib/python3.6/dist-packages/efficientnet_pytorch/model.py:119:0\n  %576 : Float(1:56448, 1152:49, 7:7, 7:1, requires_grad=1, device=cpu) = onnx::Mul(%575, %x.55) # /usr/local/lib/python3.6/dist-packages/efficientnet_pytorch/model.py:119:0\n  %740 : Float(1:9408, 192:49, 7:7, 7:1, requires_grad=1, device=cpu) = onnx::Conv[dilations=[1, 1], group=1, kernel_shape=[1, 1], pads=[0, 0, 0, 0], strides=[1, 1]](%576, %741, %742)\n  %579 : Float(1:9408, 192:49, 7:7, 7:1, requires_grad=1, device=cpu) = onnx::Add(%740, %563) # /usr/local/lib/python3.6/dist-packages/efficientnet_pytorch/model.py:131:0\n  %743 : Float(1:56448, 1152:49, 7:7, 7:1, requires_grad=1, device=cpu) = onnx::Conv[dilations=[1, 1], group=1, kernel_shape=[1, 1], pads=[0, 0, 0, 0], strides=[1, 1]](%579, %744, %745)\n  %input.59 : Float(1:56448, 1152:49, 7:7, 7:1, requires_grad=1, device=cpu) = ^SwishImplementation()(%743) # /usr/local/lib/python3.6/dist-packages/efficientnet_pytorch/utils.py:76:0\n  %583 : Float(1:139392, 1152:121, 11:11, 11:1, requires_grad=1, device=cpu) = onnx::Pad[mode=\"constant\", pads=[0, 0, 2, 2, 0, 0, 2, 2], value=0.](%input.59) # /usr/local/lib/python3.6/dist-packages/torch/nn/functional.py:3553:0\n  %746 : Float(1:56448, 1152:49, 7:7, 7:1, requires_grad=1, device=cpu) = onnx::Conv[dilations=[1, 1], group=1152, kernel_shape=[5, 5], pads=[0, 0, 0, 0], strides=[1, 1]](%583, %747, %748)\n  %x.59 : Float(1:56448, 1152:49, 7:7, 7:1, requires_grad=1, device=cpu) = ^SwishImplementation()(%746) # /usr/local/lib/python3.6/dist-packages/efficientnet_pytorch/utils.py:76:0\n  %587 : Float(1:1152, 1152:1, 1:1, 1:1, requires_grad=1, device=cpu) = onnx::GlobalAveragePool(%x.59) # /usr/local/lib/python3.6/dist-packages/torch/nn/functional.py:936:0\n  %588 : Float(1:48, 48:1, 1:1, 1:1, requires_grad=1, device=cpu) = onnx::Conv[dilations=[1, 1], group=1, kernel_shape=[1, 1], pads=[0, 0, 0, 0], strides=[1, 1]](%587, %321, %322) # /usr/local/lib/python3.6/dist-packages/efficientnet_pytorch/utils.py:271:0\n  %589 : Float(1:48, 48:1, 1:1, 1:1, requires_grad=1, device=cpu) = ^SwishImplementation()(%588) # /usr/local/lib/python3.6/dist-packages/efficientnet_pytorch/utils.py:76:0\n  %590 : Float(1:1152, 1152:1, 1:1, 1:1, requires_grad=1, device=cpu) = onnx::Conv[dilations=[1, 1], group=1, kernel_shape=[1, 1], pads=[0, 0, 0, 0], strides=[1, 1]](%589, %323, %324) # /usr/local/lib/python3.6/dist-packages/efficientnet_pytorch/utils.py:271:0\n  %591 : Float(1:1152, 1152:1, 1:1, 1:1, requires_grad=1, device=cpu) = onnx::Sigmoid(%590) # /usr/local/lib/python3.6/dist-packages/efficientnet_pytorch/model.py:119:0\n  %592 : Float(1:56448, 1152:49, 7:7, 7:1, requires_grad=1, device=cpu) = onnx::Mul(%591, %x.59) # /usr/local/lib/python3.6/dist-packages/efficientnet_pytorch/model.py:119:0\n  %749 : Float(1:9408, 192:49, 7:7, 7:1, requires_grad=1, device=cpu) = onnx::Conv[dilations=[1, 1], group=1, kernel_shape=[1, 1], pads=[0, 0, 0, 0], strides=[1, 1]](%592, %750, %751)\n  %595 : Float(1:9408, 192:49, 7:7, 7:1, requires_grad=1, device=cpu) = onnx::Add(%749, %579) # /usr/local/lib/python3.6/dist-packages/efficientnet_pytorch/model.py:131:0\n  %752 : Float(1:56448, 1152:49, 7:7, 7:1, requires_grad=1, device=cpu) = onnx::Conv[dilations=[1, 1], group=1, kernel_shape=[1, 1], pads=[0, 0, 0, 0], strides=[1, 1]](%595, %753, %754)\n  %input.63 : Float(1:56448, 1152:49, 7:7, 7:1, requires_grad=1, device=cpu) = ^SwishImplementation()(%752) # /usr/local/lib/python3.6/dist-packages/efficientnet_pytorch/utils.py:76:0\n  %599 : Float(1:93312, 1152:81, 9:9, 9:1, requires_grad=1, device=cpu) = onnx::Pad[mode=\"constant\", pads=[0, 0, 1, 1, 0, 0, 1, 1], value=0.](%input.63) # /usr/local/lib/python3.6/dist-packages/torch/nn/functional.py:3553:0\n  %755 : Float(1:56448, 1152:49, 7:7, 7:1, requires_grad=1, device=cpu) = onnx::Conv[dilations=[1, 1], group=1152, kernel_shape=[3, 3], pads=[0, 0, 0, 0], strides=[1, 1]](%599, %756, %757)\n  %x.63 : Float(1:56448, 1152:49, 7:7, 7:1, requires_grad=1, device=cpu) = ^SwishImplementation()(%755) # /usr/local/lib/python3.6/dist-packages/efficientnet_pytorch/utils.py:76:0\n  %603 : Float(1:1152, 1152:1, 1:1, 1:1, requires_grad=1, device=cpu) = onnx::GlobalAveragePool(%x.63) # /usr/local/lib/python3.6/dist-packages/torch/nn/functional.py:936:0\n  %604 : Float(1:48, 48:1, 1:1, 1:1, requires_grad=1, device=cpu) = onnx::Conv[dilations=[1, 1], group=1, kernel_shape=[1, 1], pads=[0, 0, 0, 0], strides=[1, 1]](%603, %343, %344) # /usr/local/lib/python3.6/dist-packages/efficientnet_pytorch/utils.py:271:0\n  %605 : Float(1:48, 48:1, 1:1, 1:1, requires_grad=1, device=cpu) = ^SwishImplementation()(%604) # /usr/local/lib/python3.6/dist-packages/efficientnet_pytorch/utils.py:76:0\n  %606 : Float(1:1152, 1152:1, 1:1, 1:1, requires_grad=1, device=cpu) = onnx::Conv[dilations=[1, 1], group=1, kernel_shape=[1, 1], pads=[0, 0, 0, 0], strides=[1, 1]](%605, %345, %346) # /usr/local/lib/python3.6/dist-packages/efficientnet_pytorch/utils.py:271:0\n  %607 : Float(1:1152, 1152:1, 1:1, 1:1, requires_grad=1, device=cpu) = onnx::Sigmoid(%606) # /usr/local/lib/python3.6/dist-packages/efficientnet_pytorch/model.py:119:0\n  %608 : Float(1:56448, 1152:49, 7:7, 7:1, requires_grad=1, device=cpu) = onnx::Mul(%607, %x.63) # /usr/local/lib/python3.6/dist-packages/efficientnet_pytorch/model.py:119:0\n  %758 : Float(1:15680, 320:49, 7:7, 7:1, requires_grad=1, device=cpu) = onnx::Conv[dilations=[1, 1], group=1, kernel_shape=[1, 1], pads=[0, 0, 0, 0], strides=[1, 1]](%608, %759, %760)\n  %761 : Float(1:62720, 1280:49, 7:7, 7:1, requires_grad=1, device=cpu) = onnx::Conv[dilations=[1, 1], group=1, kernel_shape=[1, 1], pads=[0, 0, 0, 0], strides=[1, 1]](%758, %762, %763)\n  %input.67 : Float(1:62720, 1280:49, 7:7, 7:1, requires_grad=1, device=cpu) = ^SwishImplementation()(%761) # /usr/local/lib/python3.6/dist-packages/efficientnet_pytorch/utils.py:76:0\n  %614 : Float(1:1280, 1280:1, 1:1, 1:1, requires_grad=1, device=cpu) = onnx::GlobalAveragePool(%input.67) # /usr/local/lib/python3.6/dist-packages/torch/nn/functional.py:936:0\n  %615 : Float(1:1280, 1280:1, requires_grad=1, device=cpu) = onnx::Flatten[axis=1](%614) # /usr/local/lib/python3.6/dist-packages/torch/nn/functional.py:983:0\n  %616 : Float(1:1000, 1000:1, requires_grad=1, device=cpu) = onnx::Gemm[alpha=1., beta=1., transB=1](%615, %359, %360) # /usr/local/lib/python3.6/dist-packages/torch/nn/functional.py:1690:0\n  return (%616)\n"
          ]
        }
      ]
    },
    {
      "cell_type": "code",
      "metadata": {
        "id": "ooQ-qlv1xdbZ"
      },
      "source": [
        ""
      ],
      "execution_count": null,
      "outputs": []
    }
  ]
}